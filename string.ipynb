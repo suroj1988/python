{
 "cells": [
  {
   "cell_type": "code",
   "execution_count": 1,
   "id": "70e3d6d1",
   "metadata": {},
   "outputs": [
    {
     "name": "stdout",
     "output_type": "stream",
     "text": [
      "<class 'str'>\n",
      "<class 'str'>\n",
      "<class 'str'>\n"
     ]
    }
   ],
   "source": [
    "# string\n",
    "a = 'Hello World'\n",
    "b = \" Hello World\"\n",
    "c = ''' Hello World'''\n",
    "print(type(a))\n",
    "print(type(b))\n",
    "print(type(c))"
   ]
  },
  {
   "cell_type": "code",
   "execution_count": 2,
   "id": "65f5c32d",
   "metadata": {},
   "outputs": [
    {
     "name": "stdout",
     "output_type": "stream",
     "text": [
      "10\n"
     ]
    }
   ],
   "source": [
    "a = \"10\"\n",
    "print(a)"
   ]
  },
  {
   "cell_type": "code",
   "execution_count": 3,
   "id": "48703835",
   "metadata": {},
   "outputs": [
    {
     "name": "stdout",
     "output_type": "stream",
     "text": [
      "Hello World\n"
     ]
    }
   ],
   "source": [
    "# operators + *\n",
    "a = \"Hello \"\n",
    "b = \"World\"\n",
    "c = a +b \n",
    "print(c)"
   ]
  },
  {
   "cell_type": "code",
   "execution_count": 4,
   "id": "3750b26c",
   "metadata": {},
   "outputs": [
    {
     "name": "stdout",
     "output_type": "stream",
     "text": [
      "Hello World\n",
      "Hello World\n",
      "\n"
     ]
    }
   ],
   "source": [
    "a = \"Hello World\\n\"\n",
    "b = 2 * a\n",
    "print(b)"
   ]
  },
  {
   "cell_type": "code",
   "execution_count": 6,
   "id": "f178ecc9",
   "metadata": {},
   "outputs": [
    {
     "name": "stdout",
     "output_type": "stream",
     "text": [
      "H Hello world\n",
      "e Hello world\n",
      "l Hello world\n",
      "l Hello world\n",
      "o Hello world\n",
      "  Hello world\n",
      "w Hello world\n",
      "o Hello world\n",
      "r Hello world\n",
      "l Hello world\n",
      "d Hello world\n"
     ]
    }
   ],
   "source": [
    "a = \"Hello world\"\n",
    "for i in a:\n",
    "    print(i,\"Hello world\")"
   ]
  },
  {
   "cell_type": "code",
   "execution_count": 7,
   "id": "4a982a1d",
   "metadata": {},
   "outputs": [
    {
     "name": "stdout",
     "output_type": "stream",
     "text": [
      "H e l l o   w o r l d "
     ]
    }
   ],
   "source": [
    "a = \"Hello world\"\n",
    "for i in a:\n",
    "    print(i,end = \" \")"
   ]
  },
  {
   "cell_type": "code",
   "execution_count": 3,
   "id": "0ac9520a",
   "metadata": {},
   "outputs": [
    {
     "name": "stdout",
     "output_type": "stream",
     "text": [
      "H\n",
      "Hello world I a\n",
      "HlowrdIa y\n",
      "Hello world I am python\n"
     ]
    }
   ],
   "source": [
    "a = \"Hello world I am python\"\n",
    "print(a[0])\n",
    "print(a[0:15])\n",
    "print(a[0:20:2])\n",
    "print(a[0:])"
   ]
  },
  {
   "cell_type": "code",
   "execution_count": 12,
   "id": "5239ef38",
   "metadata": {},
   "outputs": [
    {
     "name": "stdout",
     "output_type": "stream",
     "text": [
      "h\n"
     ]
    }
   ],
   "source": [
    "a = \"Python\"\n",
    "print(a[-3])"
   ]
  },
  {
   "cell_type": "code",
   "execution_count": 2,
   "id": "7b3f0d9d",
   "metadata": {},
   "outputs": [
    {
     "name": "stdout",
     "output_type": "stream",
     "text": [
      "noht\n"
     ]
    }
   ],
   "source": [
    "a = \"puthon\"\n",
    "print(a[-1:-5:-1])"
   ]
  },
  {
   "cell_type": "code",
   "execution_count": 1,
   "id": "d173c0fe",
   "metadata": {},
   "outputs": [
    {
     "name": "stdout",
     "output_type": "stream",
     "text": [
      "6\n"
     ]
    }
   ],
   "source": [
    "a = \"python\"\n",
    "print(len(a))"
   ]
  },
  {
   "cell_type": "code",
   "execution_count": 5,
   "id": "575a50d9",
   "metadata": {},
   "outputs": [
    {
     "name": "stdout",
     "output_type": "stream",
     "text": [
      "hon\n",
      "hon\n"
     ]
    }
   ],
   "source": [
    "a = \"python\"\n",
    "print(a[-3:])\n",
    "print(a[3:])"
   ]
  },
  {
   "cell_type": "code",
   "execution_count": 2,
   "id": "98aeb3bf",
   "metadata": {},
   "outputs": [
    {
     "name": "stdout",
     "output_type": "stream",
     "text": [
      "thon\n"
     ]
    }
   ],
   "source": [
    "a = \"python\"\n",
    "print(a[2:])"
   ]
  },
  {
   "cell_type": "code",
   "execution_count": 4,
   "id": "31fd21d2",
   "metadata": {},
   "outputs": [
    {
     "name": "stdout",
     "output_type": "stream",
     "text": [
      "nohtyp\n"
     ]
    }
   ],
   "source": [
    "a = \"python\"\n",
    "print(a[::-1])"
   ]
  },
  {
   "cell_type": "code",
   "execution_count": 6,
   "id": "738c8bb8",
   "metadata": {},
   "outputs": [],
   "source": [
    "# string formatting\n"
   ]
  },
  {
   "cell_type": "code",
   "execution_count": 7,
   "id": "dbf1deb0",
   "metadata": {},
   "outputs": [
    {
     "name": "stdout",
     "output_type": "stream",
     "text": [
      "Enter name = ram\n",
      "Enter age = 45\n",
      "Enter address = ktm\n",
      "Hello world I am ram. I am from ktm. I am 45.\n"
     ]
    }
   ],
   "source": [
    "name = input(\"Enter name = \")\n",
    "age = int(input(\"Enter age = \"))\n",
    "add = input(\"Enter address = \")\n",
    "\n",
    "# info = \"Hello world I am \" + name+ \"I am from \" + add + \"I am \"+ str(age)\n",
    "info = f\"Hello world I am {name}. I am from {add}. I am {age}.\"\n",
    "print(info)"
   ]
  },
  {
   "cell_type": "code",
   "execution_count": 5,
   "id": "719fe31a",
   "metadata": {},
   "outputs": [
    {
     "name": "stdout",
     "output_type": "stream",
     "text": [
      "enter n =2\n",
      "enter namelux\n",
      "enter q = 20\n",
      "enter price = 40\n",
      "enter namepen\n",
      "enter q = 2\n",
      "enter price = 200\n",
      " lux 20 800 \n",
      " pen 2 400 \n",
      "\n",
      "1200\n"
     ]
    }
   ],
   "source": [
    "n = int(input(\"enter n =\"))\n",
    "data = \"\"\n",
    "grand_total = 0\n",
    "for i in range(n):\n",
    "    name = input(\"enter name\")\n",
    "    quantity = int(input(\"enter q = \"))\n",
    "    price = int(input(\"enter price = \"))\n",
    "    total = quantity * price\n",
    "    grand_total = grand_total + total\n",
    "    bill = f\" {name} {quantity} {total} \\n\"\n",
    "    data = data + bill\n",
    "print(data)\n",
    "print(grand_total)\n",
    "    \n",
    "    \n",
    "    "
   ]
  },
  {
   "cell_type": "code",
   "execution_count": 7,
   "id": "92c88804",
   "metadata": {},
   "outputs": [
    {
     "name": "stdout",
     "output_type": "stream",
     "text": [
      "enter name = ram\n",
      "no\n"
     ]
    }
   ],
   "source": [
    "a = \"Ram Shyam Hari Nabin Akash Sita Manish Ramesh\"\n",
    "name = input(\"enter name = \")\n",
    "if name in a:\n",
    "    print(\"yes\")\n",
    "    print(a.count(name))\n",
    "else:\n",
    "    print(\"no\")"
   ]
  },
  {
   "cell_type": "code",
   "execution_count": 11,
   "id": "b563f183",
   "metadata": {},
   "outputs": [
    {
     "name": "stdout",
     "output_type": "stream",
     "text": [
      "ram shyam hari nabin akash sita manish ramesh\n",
      "RAM SHYAM HARI NABIN AKASH SITA MANISH RAMESH\n",
      "Ram Shyam Hari Nabin Akash Sita Manish Ramesh\n"
     ]
    }
   ],
   "source": [
    "a = \"Ram Shyam Hari Nabin Akash Sita Manish Ramesh\"\n",
    "print(a.lower())\n",
    "print(a.upper())\n",
    "print(a)"
   ]
  },
  {
   "cell_type": "code",
   "execution_count": 12,
   "id": "bf5f5aca",
   "metadata": {},
   "outputs": [
    {
     "name": "stdout",
     "output_type": "stream",
     "text": [
      "enter name = ram\n",
      "yes\n",
      "2\n"
     ]
    }
   ],
   "source": [
    "a = \"Ram Shyam Hari Nabin Akash Sita Manish Ramesh\".lower()\n",
    "name = input(\"enter name = \").lower()\n",
    "if name in a:\n",
    "    print(\"yes\")\n",
    "    print(a.count(name))\n",
    "else:\n",
    "    print(\"no\")"
   ]
  },
  {
   "cell_type": "code",
   "execution_count": 13,
   "id": "209e1fdd",
   "metadata": {},
   "outputs": [
    {
     "name": "stdout",
     "output_type": "stream",
     "text": [
      "ram shyam hari nabin akash sita manish ramesh\n"
     ]
    }
   ],
   "source": [
    "a = \"Ram Shyam Hari Nabin Akash Sita Manish Ramesh\"\n",
    "a = a.lower()\n",
    "print(a)"
   ]
  },
  {
   "cell_type": "code",
   "execution_count": 14,
   "id": "e43fef2e",
   "metadata": {},
   "outputs": [
    {
     "name": "stdout",
     "output_type": "stream",
     "text": [
      "Ram Shyam Hari Nabin Akash Sita Manish Ramesh\n"
     ]
    }
   ],
   "source": [
    "a = \"ram shyam hari nabin akash sita manish ramesh\"\n",
    "print(a.title())"
   ]
  },
  {
   "cell_type": "code",
   "execution_count": 15,
   "id": "a2a3c4f4",
   "metadata": {},
   "outputs": [
    {
     "name": "stdout",
     "output_type": "stream",
     "text": [
      "no there is\n"
     ]
    }
   ],
   "source": [
    "a = \"Ram Shyam Hari Nabin Akash Sita Manish Ramesh\"\n",
    "name = \"Rajesh\"\n",
    "if name not in a:\n",
    "    print(\"no there is\")"
   ]
  },
  {
   "cell_type": "code",
   "execution_count": 16,
   "id": "94d6ab68",
   "metadata": {},
   "outputs": [
    {
     "data": {
      "text/plain": [
       "['Ram', 'Shyam', 'Hari', 'Nabin', 'Akash', 'Sita', 'Manish', 'Ramesh']"
      ]
     },
     "execution_count": 16,
     "metadata": {},
     "output_type": "execute_result"
    }
   ],
   "source": [
    "a = \"Ram Shyam Hari Nabin Akash Sita Manish Ramesh\"\n",
    "a.split()"
   ]
  },
  {
   "cell_type": "code",
   "execution_count": null,
   "id": "06e6876c",
   "metadata": {},
   "outputs": [],
   "source": []
  }
 ],
 "metadata": {
  "kernelspec": {
   "display_name": "Python 3 (ipykernel)",
   "language": "python",
   "name": "python3"
  },
  "language_info": {
   "codemirror_mode": {
    "name": "ipython",
    "version": 3
   },
   "file_extension": ".py",
   "mimetype": "text/x-python",
   "name": "python",
   "nbconvert_exporter": "python",
   "pygments_lexer": "ipython3",
   "version": "3.11.5"
  }
 },
 "nbformat": 4,
 "nbformat_minor": 5
}

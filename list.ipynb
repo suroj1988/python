{
 "cells": [
  {
   "cell_type": "code",
   "execution_count": 1,
   "id": "f81a365a",
   "metadata": {},
   "outputs": [],
   "source": [
    "# python collection\n",
    "# list \n",
    "# tuple\n",
    "# set\n",
    "#  dictionary\n"
   ]
  },
  {
   "cell_type": "code",
   "execution_count": 2,
   "id": "49d84034",
   "metadata": {},
   "outputs": [],
   "source": [
    "# list\n",
    "# indexing\n",
    "# multiple and duplicate values\n",
    "# ordered\n",
    "# mutable"
   ]
  },
  {
   "cell_type": "code",
   "execution_count": 3,
   "id": "597d8e96",
   "metadata": {},
   "outputs": [
    {
     "name": "stdout",
     "output_type": "stream",
     "text": [
      "<class 'list'>\n",
      "<class 'list'>\n"
     ]
    }
   ],
   "source": [
    "a = [\"apple\",\"ball\",\"cat\",\"dog\",\"ear\"]\n",
    "b = [1,2,3,4,5,6,7,8]\n",
    "print(type(a))\n",
    "print(type(b))"
   ]
  },
  {
   "cell_type": "code",
   "execution_count": 6,
   "id": "f8233cd8",
   "metadata": {},
   "outputs": [
    {
     "name": "stdout",
     "output_type": "stream",
     "text": [
      "apple\n",
      "['apple', 'ball']\n",
      "['apple', 'cat', 'ear']\n"
     ]
    }
   ],
   "source": [
    "a = [\"apple\",\"ball\",\"cat\",\"dog\",\"ear\"]\n",
    "print(a[0])\n",
    "print(a[0:2])\n",
    "print(a[0:5:2])"
   ]
  },
  {
   "cell_type": "code",
   "execution_count": 7,
   "id": "95d1bef0",
   "metadata": {},
   "outputs": [
    {
     "name": "stdout",
     "output_type": "stream",
     "text": [
      "8\n"
     ]
    }
   ],
   "source": [
    "b = [1,2,3,4,5,6,7,8]\n",
    "print(len(b))"
   ]
  },
  {
   "cell_type": "code",
   "execution_count": 8,
   "id": "26a8cd2a",
   "metadata": {},
   "outputs": [
    {
     "name": "stdout",
     "output_type": "stream",
     "text": [
      "['apple', 'ball', 'cat', 'dog', 'ear', 1, 2, 3, 4, 5, 6, 7, 8]\n"
     ]
    }
   ],
   "source": [
    "a = [\"apple\",\"ball\",\"cat\",\"dog\",\"ear\"]\n",
    "b = [1,2,3,4,5,6,7,8]\n",
    "c = a + b \n",
    "print(c)"
   ]
  },
  {
   "cell_type": "code",
   "execution_count": 10,
   "id": "f70433b4",
   "metadata": {},
   "outputs": [
    {
     "name": "stdout",
     "output_type": "stream",
     "text": [
      "['apple', 'ball', 'cat', 'dog', 'ear', 'apple', 'ball', 'cat', 'dog', 'ear']\n"
     ]
    }
   ],
   "source": [
    "a = [\"apple\",\"ball\",\"cat\",\"dog\",\"ear\"]\n",
    "b = a * 2 \n",
    "print(b)"
   ]
  },
  {
   "cell_type": "code",
   "execution_count": 11,
   "id": "20bc7d4f",
   "metadata": {},
   "outputs": [
    {
     "name": "stdout",
     "output_type": "stream",
     "text": [
      "['apple', 'ball']\n"
     ]
    }
   ],
   "source": [
    "# a = []\n",
    "a = list()\n",
    "a = a + [\"apple\"]\n",
    "a = a + [\"ball\"]\n",
    "print(a)"
   ]
  },
  {
   "cell_type": "code",
   "execution_count": 12,
   "id": "e9bfe192",
   "metadata": {},
   "outputs": [
    {
     "name": "stdout",
     "output_type": "stream",
     "text": [
      "enter n = 4\n",
      "enter x = 1\n",
      "enter x = 2\n",
      "enter x = 3\n",
      "enter x = 5\n",
      "[1, 2, 3, 5]\n"
     ]
    }
   ],
   "source": [
    "n = int(input(\"enter n = \"))\n",
    "a = []\n",
    "for i in range(n):\n",
    "    x = int(input(\"enter x = \"))\n",
    "    a = a + [x]\n",
    "print(a)\n",
    "    "
   ]
  },
  {
   "cell_type": "code",
   "execution_count": 13,
   "id": "2d225bf9",
   "metadata": {},
   "outputs": [
    {
     "name": "stdout",
     "output_type": "stream",
     "text": [
      "The max value =  567\n",
      "The min value =  34\n",
      "The sum =  2794\n",
      "The avg =  279.4\n"
     ]
    }
   ],
   "source": [
    "a = [234, 456, 234, 56, 234, 567, 34, 567, 345, 67]\n",
    "print(\"The max value = \",max(a))\n",
    "print(\"The min value = \",min(a))\n",
    "print(\"The sum = \",sum(a))\n",
    "print(\"The avg = \",sum(a)/len(a))"
   ]
  },
  {
   "cell_type": "code",
   "execution_count": 2,
   "id": "ec773469",
   "metadata": {},
   "outputs": [
    {
     "name": "stdout",
     "output_type": "stream",
     "text": [
      "[34, 56, 67, 234, 234, 234, 345, 456, 567, 567]\n"
     ]
    }
   ],
   "source": [
    "a = [234, 456, 234, 56, 234, 567, 34, 567, 345, 67]\n",
    "a.sort()\n",
    "print(a)"
   ]
  },
  {
   "cell_type": "code",
   "execution_count": 3,
   "id": "80f181a3",
   "metadata": {},
   "outputs": [
    {
     "name": "stdout",
     "output_type": "stream",
     "text": [
      "[567, 567, 456, 345, 234, 234, 234, 67, 56, 34]\n"
     ]
    }
   ],
   "source": [
    "a.reverse()\n",
    "print(a)"
   ]
  },
  {
   "cell_type": "code",
   "execution_count": 4,
   "id": "392a62c6",
   "metadata": {},
   "outputs": [
    {
     "name": "stdout",
     "output_type": "stream",
     "text": [
      "[67, 345, 567, 34, 567, 234, 56, 234, 456, 234]\n"
     ]
    }
   ],
   "source": [
    "a = [234, 456, 234, 56, 234, 567, 34, 567, 345, 67]\n",
    "a.reverse()\n",
    "print(a)"
   ]
  },
  {
   "cell_type": "code",
   "execution_count": 2,
   "id": "9d7815f4",
   "metadata": {},
   "outputs": [
    {
     "name": "stdout",
     "output_type": "stream",
     "text": [
      "[34, 56, 67, 234, 234, 234, 345, 456, 567, 567]\n"
     ]
    }
   ],
   "source": [
    "a = [234, 456, 234, 56, 234, 567, 34, 567, 345, 67]\n",
    "a.sort()\n",
    "print(a)"
   ]
  },
  {
   "cell_type": "code",
   "execution_count": 3,
   "id": "15b31a3a",
   "metadata": {},
   "outputs": [
    {
     "name": "stdout",
     "output_type": "stream",
     "text": [
      "['Banana', 'Cat', 'Xray', 'Zebra', 'apple']\n"
     ]
    }
   ],
   "source": [
    "a = [\"Zebra\",\"Banana\",\"Xray\",\"apple\",\"Cat\"]\n",
    "a.sort()\n",
    "print(a)"
   ]
  },
  {
   "cell_type": "code",
   "execution_count": 5,
   "id": "927ac113",
   "metadata": {},
   "outputs": [
    {
     "name": "stdout",
     "output_type": "stream",
     "text": [
      "['Apple', 'Banana', 'Xray', 'apple', 'Cat']\n"
     ]
    }
   ],
   "source": [
    "a = [\"Zebra\",\"Banana\",\"Xray\",\"apple\",\"Cat\"]\n",
    "a[0] = 'Apple'\n",
    "print(a)"
   ]
  },
  {
   "cell_type": "code",
   "execution_count": 6,
   "id": "d5bb040d",
   "metadata": {},
   "outputs": [],
   "source": [
    "# #data entry\n",
    "# append() insert() extend()\n",
    "\n",
    "# #delete value\n",
    "# del remove() pop()"
   ]
  },
  {
   "cell_type": "code",
   "execution_count": 7,
   "id": "d9c1a20e",
   "metadata": {},
   "outputs": [
    {
     "name": "stdout",
     "output_type": "stream",
     "text": [
      "['apple', 'ball']\n"
     ]
    }
   ],
   "source": [
    "# append()\n",
    "a = []\n",
    "a.append(\"apple\")\n",
    "a.append(\"ball\")\n",
    "print(a)"
   ]
  },
  {
   "cell_type": "code",
   "execution_count": null,
   "id": "33a46fcf",
   "metadata": {},
   "outputs": [],
   "source": []
  },
  {
   "cell_type": "code",
   "execution_count": 2,
   "id": "62764b05",
   "metadata": {},
   "outputs": [
    {
     "name": "stdout",
     "output_type": "stream",
     "text": [
      "enter n = 4\n",
      "enter x =1\n",
      "enter x =2\n",
      "enter x =3\n",
      "enter x =4\n",
      "[1, 2, 3, 4]\n"
     ]
    }
   ],
   "source": [
    "a = []\n",
    "n = int(input(\"enter n = \"))\n",
    "for i in range(n):\n",
    "    x = int(input(\"enter x =\"))\n",
    "    a.append(x)\n",
    "print(a)"
   ]
  },
  {
   "cell_type": "markdown",
   "id": "052d1e76",
   "metadata": {},
   "source": []
  },
  {
   "cell_type": "code",
   "execution_count": 4,
   "id": "ebb6d64e",
   "metadata": {},
   "outputs": [
    {
     "name": "stdout",
     "output_type": "stream",
     "text": [
      "[1, 2, 3, 4, 'apple', 'Ball', 'cat', 'dog']\n"
     ]
    }
   ],
   "source": [
    "a = [1,2,3,4]\n",
    "b = ['apple','Ball','cat','dog']\n",
    "a.extend(b)\n",
    "print(a)"
   ]
  },
  {
   "cell_type": "code",
   "execution_count": 5,
   "id": "a66e94ab",
   "metadata": {},
   "outputs": [
    {
     "name": "stdout",
     "output_type": "stream",
     "text": [
      "['apple', 1, 2, 3, 4]\n"
     ]
    }
   ],
   "source": [
    "a = [1,2,3,4]\n",
    "a.insert(0,\"apple\")\n",
    "print(a)"
   ]
  },
  {
   "cell_type": "code",
   "execution_count": 7,
   "id": "af34ddf4",
   "metadata": {},
   "outputs": [
    {
     "name": "stdout",
     "output_type": "stream",
     "text": [
      "['apple', 'ball', 'cat', 'dog']\n"
     ]
    }
   ],
   "source": [
    "# update\n",
    "b = ['apple','Ball','cat','dog']\n",
    "b[1] = 'ball'\n",
    "print(b)"
   ]
  },
  {
   "cell_type": "code",
   "execution_count": null,
   "id": "40815de9",
   "metadata": {},
   "outputs": [],
   "source": []
  }
 ],
 "metadata": {
  "kernelspec": {
   "display_name": "Python 3 (ipykernel)",
   "language": "python",
   "name": "python3"
  },
  "language_info": {
   "codemirror_mode": {
    "name": "ipython",
    "version": 3
   },
   "file_extension": ".py",
   "mimetype": "text/x-python",
   "name": "python",
   "nbconvert_exporter": "python",
   "pygments_lexer": "ipython3",
   "version": "3.11.5"
  }
 },
 "nbformat": 4,
 "nbformat_minor": 5
}

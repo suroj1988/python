{
 "cells": [
  {
   "cell_type": "code",
   "execution_count": 1,
   "id": "f81a365a",
   "metadata": {},
   "outputs": [],
   "source": [
    "# python collection\n",
    "# list \n",
    "# tuple\n",
    "# set\n",
    "#  dictionary\n"
   ]
  },
  {
   "cell_type": "code",
   "execution_count": 2,
   "id": "49d84034",
   "metadata": {},
   "outputs": [],
   "source": [
    "# list\n",
    "# indexing\n",
    "# multiple and duplicate values\n",
    "# ordered\n",
    "# mutable"
   ]
  },
  {
   "cell_type": "code",
   "execution_count": 3,
   "id": "597d8e96",
   "metadata": {},
   "outputs": [
    {
     "name": "stdout",
     "output_type": "stream",
     "text": [
      "<class 'list'>\n",
      "<class 'list'>\n"
     ]
    }
   ],
   "source": [
    "a = [\"apple\",\"ball\",\"cat\",\"dog\",\"ear\"]\n",
    "b = [1,2,3,4,5,6,7,8]\n",
    "print(type(a))\n",
    "print(type(b))"
   ]
  },
  {
   "cell_type": "code",
   "execution_count": 6,
   "id": "f8233cd8",
   "metadata": {},
   "outputs": [
    {
     "name": "stdout",
     "output_type": "stream",
     "text": [
      "apple\n",
      "['apple', 'ball']\n",
      "['apple', 'cat', 'ear']\n"
     ]
    }
   ],
   "source": [
    "a = [\"apple\",\"ball\",\"cat\",\"dog\",\"ear\"]\n",
    "print(a[0])\n",
    "print(a[0:2])\n",
    "print(a[0:5:2])"
   ]
  },
  {
   "cell_type": "code",
   "execution_count": 7,
   "id": "95d1bef0",
   "metadata": {},
   "outputs": [
    {
     "name": "stdout",
     "output_type": "stream",
     "text": [
      "8\n"
     ]
    }
   ],
   "source": [
    "b = [1,2,3,4,5,6,7,8]\n",
    "print(len(b))"
   ]
  },
  {
   "cell_type": "code",
   "execution_count": 8,
   "id": "26a8cd2a",
   "metadata": {},
   "outputs": [
    {
     "name": "stdout",
     "output_type": "stream",
     "text": [
      "['apple', 'ball', 'cat', 'dog', 'ear', 1, 2, 3, 4, 5, 6, 7, 8]\n"
     ]
    }
   ],
   "source": [
    "a = [\"apple\",\"ball\",\"cat\",\"dog\",\"ear\"]\n",
    "b = [1,2,3,4,5,6,7,8]\n",
    "c = a + b \n",
    "print(c)"
   ]
  },
  {
   "cell_type": "code",
   "execution_count": 10,
   "id": "f70433b4",
   "metadata": {},
   "outputs": [
    {
     "name": "stdout",
     "output_type": "stream",
     "text": [
      "['apple', 'ball', 'cat', 'dog', 'ear', 'apple', 'ball', 'cat', 'dog', 'ear']\n"
     ]
    }
   ],
   "source": [
    "a = [\"apple\",\"ball\",\"cat\",\"dog\",\"ear\"]\n",
    "b = a * 2 \n",
    "print(b)"
   ]
  },
  {
   "cell_type": "code",
   "execution_count": 11,
   "id": "20bc7d4f",
   "metadata": {},
   "outputs": [
    {
     "name": "stdout",
     "output_type": "stream",
     "text": [
      "['apple', 'ball']\n"
     ]
    }
   ],
   "source": [
    "# a = []\n",
    "a = list()\n",
    "a = a + [\"apple\"]\n",
    "a = a + [\"ball\"]\n",
    "print(a)"
   ]
  },
  {
   "cell_type": "code",
   "execution_count": 12,
   "id": "e9bfe192",
   "metadata": {},
   "outputs": [
    {
     "name": "stdout",
     "output_type": "stream",
     "text": [
      "enter n = 4\n",
      "enter x = 1\n",
      "enter x = 2\n",
      "enter x = 3\n",
      "enter x = 5\n",
      "[1, 2, 3, 5]\n"
     ]
    }
   ],
   "source": [
    "n = int(input(\"enter n = \"))\n",
    "a = []\n",
    "for i in range(n):\n",
    "    x = int(input(\"enter x = \"))\n",
    "    a = a + [x]\n",
    "print(a)\n",
    "    "
   ]
  },
  {
   "cell_type": "code",
   "execution_count": 13,
   "id": "2d225bf9",
   "metadata": {},
   "outputs": [
    {
     "name": "stdout",
     "output_type": "stream",
     "text": [
      "The max value =  567\n",
      "The min value =  34\n",
      "The sum =  2794\n",
      "The avg =  279.4\n"
     ]
    }
   ],
   "source": [
    "a = [234, 456, 234, 56, 234, 567, 34, 567, 345, 67]\n",
    "print(\"The max value = \",max(a))\n",
    "print(\"The min value = \",min(a))\n",
    "print(\"The sum = \",sum(a))\n",
    "print(\"The avg = \",sum(a)/len(a))"
   ]
  },
  {
   "cell_type": "code",
   "execution_count": 2,
   "id": "ec773469",
   "metadata": {},
   "outputs": [
    {
     "name": "stdout",
     "output_type": "stream",
     "text": [
      "[34, 56, 67, 234, 234, 234, 345, 456, 567, 567]\n"
     ]
    }
   ],
   "source": [
    "a = [234, 456, 234, 56, 234, 567, 34, 567, 345, 67]\n",
    "a.sort()\n",
    "print(a)"
   ]
  },
  {
   "cell_type": "code",
   "execution_count": 3,
   "id": "80f181a3",
   "metadata": {},
   "outputs": [
    {
     "name": "stdout",
     "output_type": "stream",
     "text": [
      "[567, 567, 456, 345, 234, 234, 234, 67, 56, 34]\n"
     ]
    }
   ],
   "source": [
    "a.reverse()\n",
    "print(a)"
   ]
  },
  {
   "cell_type": "code",
   "execution_count": 4,
   "id": "392a62c6",
   "metadata": {},
   "outputs": [
    {
     "name": "stdout",
     "output_type": "stream",
     "text": [
      "[67, 345, 567, 34, 567, 234, 56, 234, 456, 234]\n"
     ]
    }
   ],
   "source": [
    "a = [234, 456, 234, 56, 234, 567, 34, 567, 345, 67]\n",
    "a.reverse()\n",
    "print(a)"
   ]
  },
  {
   "cell_type": "code",
   "execution_count": 2,
   "id": "9d7815f4",
   "metadata": {},
   "outputs": [
    {
     "name": "stdout",
     "output_type": "stream",
     "text": [
      "[34, 56, 67, 234, 234, 234, 345, 456, 567, 567]\n"
     ]
    }
   ],
   "source": [
    "a = [234, 456, 234, 56, 234, 567, 34, 567, 345, 67]\n",
    "a.sort()\n",
    "print(a)"
   ]
  },
  {
   "cell_type": "code",
   "execution_count": 3,
   "id": "15b31a3a",
   "metadata": {},
   "outputs": [
    {
     "name": "stdout",
     "output_type": "stream",
     "text": [
      "['Banana', 'Cat', 'Xray', 'Zebra', 'apple']\n"
     ]
    }
   ],
   "source": [
    "a = [\"Zebra\",\"Banana\",\"Xray\",\"apple\",\"Cat\"]\n",
    "a.sort()\n",
    "print(a)"
   ]
  },
  {
   "cell_type": "code",
   "execution_count": 5,
   "id": "927ac113",
   "metadata": {},
   "outputs": [
    {
     "name": "stdout",
     "output_type": "stream",
     "text": [
      "['Apple', 'Banana', 'Xray', 'apple', 'Cat']\n"
     ]
    }
   ],
   "source": [
    "a = [\"Zebra\",\"Banana\",\"Xray\",\"apple\",\"Cat\"]\n",
    "a[0] = 'Apple'\n",
    "print(a)"
   ]
  },
  {
   "cell_type": "code",
   "execution_count": 6,
   "id": "d5bb040d",
   "metadata": {},
   "outputs": [],
   "source": [
    "# #data entry\n",
    "# append() insert() extend()\n",
    "\n",
    "# #delete value\n",
    "# del remove() pop()"
   ]
  },
  {
   "cell_type": "code",
   "execution_count": 7,
   "id": "d9c1a20e",
   "metadata": {},
   "outputs": [
    {
     "name": "stdout",
     "output_type": "stream",
     "text": [
      "['apple', 'ball']\n"
     ]
    }
   ],
   "source": [
    "# append()\n",
    "a = []\n",
    "a.append(\"apple\")\n",
    "a.append(\"ball\")\n",
    "print(a)"
   ]
  },
  {
   "cell_type": "code",
   "execution_count": null,
   "id": "33a46fcf",
   "metadata": {},
   "outputs": [],
   "source": []
  },
  {
   "cell_type": "code",
   "execution_count": 2,
   "id": "62764b05",
   "metadata": {},
   "outputs": [
    {
     "name": "stdout",
     "output_type": "stream",
     "text": [
      "enter n = 4\n",
      "enter x =1\n",
      "enter x =2\n",
      "enter x =3\n",
      "enter x =4\n",
      "[1, 2, 3, 4]\n"
     ]
    }
   ],
   "source": [
    "a = []\n",
    "n = int(input(\"enter n = \"))\n",
    "for i in range(n):\n",
    "    x = int(input(\"enter x =\"))\n",
    "    a.append(x)\n",
    "print(a)"
   ]
  },
  {
   "cell_type": "markdown",
   "id": "052d1e76",
   "metadata": {},
   "source": []
  },
  {
   "cell_type": "code",
   "execution_count": 4,
   "id": "ebb6d64e",
   "metadata": {},
   "outputs": [
    {
     "name": "stdout",
     "output_type": "stream",
     "text": [
      "[1, 2, 3, 4, 'apple', 'Ball', 'cat', 'dog']\n"
     ]
    }
   ],
   "source": [
    "a = [1,2,3,4]\n",
    "b = ['apple','Ball','cat','dog']\n",
    "a.extend(b)\n",
    "print(a)"
   ]
  },
  {
   "cell_type": "code",
   "execution_count": 5,
   "id": "a66e94ab",
   "metadata": {},
   "outputs": [
    {
     "name": "stdout",
     "output_type": "stream",
     "text": [
      "['apple', 1, 2, 3, 4]\n"
     ]
    }
   ],
   "source": [
    "a = [1,2,3,4]\n",
    "a.insert(0,\"apple\")\n",
    "print(a)"
   ]
  },
  {
   "cell_type": "code",
   "execution_count": 7,
   "id": "af34ddf4",
   "metadata": {},
   "outputs": [
    {
     "name": "stdout",
     "output_type": "stream",
     "text": [
      "['apple', 'ball', 'cat', 'dog']\n"
     ]
    }
   ],
   "source": [
    "# update\n",
    "b = ['apple','Ball','cat','dog']\n",
    "b[1] = 'ball'\n",
    "print(b)"
   ]
  },
  {
   "cell_type": "code",
   "execution_count": 1,
   "id": "40815de9",
   "metadata": {},
   "outputs": [
    {
     "name": "stdout",
     "output_type": "stream",
     "text": [
      "['apple', 'cat', 'dog']\n"
     ]
    }
   ],
   "source": [
    "b = ['apple','Ball','cat','dog']\n",
    "del b[1]\n",
    "print(b)"
   ]
  },
  {
   "cell_type": "code",
   "execution_count": 16,
   "id": "25aab933",
   "metadata": {},
   "outputs": [
    {
     "name": "stdout",
     "output_type": "stream",
     "text": [
      "['Ball', 'cat', 'dog']\n"
     ]
    }
   ],
   "source": [
    "b = ['apple','Ball','cat','dog']\n",
    "b.remove('apple')\n",
    "print(b)"
   ]
  },
  {
   "cell_type": "code",
   "execution_count": 6,
   "id": "9ac69734",
   "metadata": {},
   "outputs": [
    {
     "name": "stdout",
     "output_type": "stream",
     "text": [
      "['Ball', 'cat', 'dog', 'apple']\n"
     ]
    }
   ],
   "source": [
    "b = ['apple','Ball','cat','dog','apple']\n",
    "b.pop(0)\n",
    "print(b)"
   ]
  },
  {
   "cell_type": "code",
   "execution_count": 8,
   "id": "951d568a",
   "metadata": {},
   "outputs": [
    {
     "name": "stdout",
     "output_type": "stream",
     "text": [
      "['Zebra', 'Banana', 'apple', 'cat', 'Zebra']\n"
     ]
    }
   ],
   "source": [
    "# update multiple value\n",
    "a = [\"zebra\",\"Banana\",\"apple\",\"cat\",\"Zebra\"]\n",
    "for i in range(len(a)):\n",
    "    if a[i] == \"zebra\":\n",
    "        a[i] = \"Zebra\"\n",
    "print(a)"
   ]
  },
  {
   "cell_type": "code",
   "execution_count": 9,
   "id": "937e50d6",
   "metadata": {},
   "outputs": [
    {
     "name": "stdout",
     "output_type": "stream",
     "text": [
      "['Zebra', 'Banana', 'apple', 'cat', 'Zebra']\n"
     ]
    }
   ],
   "source": [
    "# update multiple value\n",
    "a = [\"zebra\",\"Banana\",\"apple\",\"cat\",\"zebra\"]\n",
    "for i in range(len(a)):\n",
    "    if a[i] == \"zebra\":\n",
    "        a[i] = \"Zebra\"\n",
    "print(a)"
   ]
  },
  {
   "cell_type": "code",
   "execution_count": 13,
   "id": "aef123e3",
   "metadata": {},
   "outputs": [
    {
     "name": "stdout",
     "output_type": "stream",
     "text": [
      "4\n"
     ]
    }
   ],
   "source": [
    "# index\n",
    "a = [\"zebra\",\"Banana\",\"apple\",\"cat\",\"Zebra\"]\n",
    "l = a.index(\"Zebra\")\n",
    "print(l)"
   ]
  },
  {
   "cell_type": "code",
   "execution_count": 11,
   "id": "3f1a011d",
   "metadata": {},
   "outputs": [
    {
     "name": "stdout",
     "output_type": "stream",
     "text": [
      "0\n",
      "4\n"
     ]
    }
   ],
   "source": [
    "# update multiple value\n",
    "a = [\"zebra\",\"Banana\",\"apple\",\"cat\",\"zebra\"]\n",
    "for i in range(len(a)):\n",
    "    if a[i] == \"zebra\":\n",
    "        print(i)"
   ]
  },
  {
   "cell_type": "code",
   "execution_count": 12,
   "id": "595d44bf",
   "metadata": {},
   "outputs": [
    {
     "name": "stdout",
     "output_type": "stream",
     "text": [
      "2\n"
     ]
    }
   ],
   "source": [
    "a = [\"zebra\",\"Banana\",\"apple\",\"cat\",\"zebra\"]\n",
    "l = a.count(\"zebra\")\n",
    "print(l)"
   ]
  },
  {
   "cell_type": "code",
   "execution_count": 17,
   "id": "19bc7b42",
   "metadata": {},
   "outputs": [
    {
     "name": "stdout",
     "output_type": "stream",
     "text": [
      "['Banana', 'apple', 'cat']\n"
     ]
    }
   ],
   "source": [
    "a = [\"zebra\",\"Banana\",\"apple\",\"cat\",\"zebra\"]\n",
    "for i in range(a.count(\"zebra\")):\n",
    "    a.remove(\"zebra\")\n",
    "print(a)"
   ]
  },
  {
   "cell_type": "code",
   "execution_count": 1,
   "id": "7a4f0419",
   "metadata": {},
   "outputs": [
    {
     "name": "stdout",
     "output_type": "stream",
     "text": [
      "None\n"
     ]
    }
   ],
   "source": [
    "b = ['apple','Ball','cat','dog']\n",
    "c = b.remove('apple')\n",
    "print(c)\n",
    "# b.remove('apple') removes \"apple\" from the list in place.\n",
    "\n",
    "# After this, b = ['Ball', 'cat', 'dog'].\n",
    "\n",
    "# But list.remove() does not return the modified list.\n",
    "# Instead, it returns None.\n",
    "\n",
    "# So c will be None."
   ]
  },
  {
   "cell_type": "code",
   "execution_count": 3,
   "id": "4f2654d7",
   "metadata": {},
   "outputs": [
    {
     "name": "stdout",
     "output_type": "stream",
     "text": [
      "YES\n",
      "2\n"
     ]
    }
   ],
   "source": [
    "b = ['apple','Ball','cat','dog','frog','apple']\n",
    "if \"apple\" in b:\n",
    "    print(\"YES\")\n",
    "    print(b.count(\"apple\"))\n",
    "else:\n",
    "    print(\"no\")\n",
    "    "
   ]
  },
  {
   "cell_type": "code",
   "execution_count": 5,
   "id": "808fa47f",
   "metadata": {},
   "outputs": [
    {
     "name": "stdout",
     "output_type": "stream",
     "text": [
      "[[1, 2, 3], [4, 5, 6], [7, 8, 9]] <class 'list'>\n"
     ]
    }
   ],
   "source": [
    "# list inside list\n",
    "a = [[1,2,3],\n",
    "   [4,5,6],\n",
    "   [7,8,9]]\n",
    "print(a,type(a))"
   ]
  },
  {
   "cell_type": "code",
   "execution_count": 9,
   "id": "4f7e8a32",
   "metadata": {},
   "outputs": [
    {
     "name": "stdout",
     "output_type": "stream",
     "text": [
      "['Ram', 25, 'ltp']\n",
      "Ram\n",
      "bkt\n"
     ]
    }
   ],
   "source": [
    "a = [[\"Ram\",25,\"ltp\"],\n",
    "   [\"shyam\",15,\"bkt\"],\n",
    "   [\"Hari\",18,\"ktm\"]]\n",
    "print(a[0])\n",
    "print(a[0][0])\n",
    "print(a[1][2])\n"
   ]
  },
  {
   "cell_type": "code",
   "execution_count": 10,
   "id": "0edb58b1",
   "metadata": {},
   "outputs": [
    {
     "name": "stdout",
     "output_type": "stream",
     "text": [
      "[['Ram', 25, 'ltp'], ['shyam', 15, 'bkt'], ['Hari', 18, 'ktm'], ['sita', 19, 'chitwan']]\n"
     ]
    }
   ],
   "source": [
    "a.append(['sita',19,'chitwan'])\n",
    "print(a)"
   ]
  },
  {
   "cell_type": "code",
   "execution_count": 2,
   "id": "8e7b9c09",
   "metadata": {},
   "outputs": [
    {
     "name": "stdout",
     "output_type": "stream",
     "text": [
      "['Ram', 25, 'ltp']\n",
      "Ram\n",
      "bkt\n",
      "[['Ram', 25, 'ltp'], ['shyam', 15, 'bkt'], ['Hari', 18, 'ktm'], [25, 'Sita', 'chitwan']]\n"
     ]
    }
   ],
   "source": [
    "a = [[\"Ram\",25,\"ltp\"],\n",
    "   [\"shyam\",15,\"bkt\"],\n",
    "   [\"Hari\",18,\"ktm\"]]\n",
    "print(a[0])\n",
    "print(a[0][0])\n",
    "print(a[1][2])\n",
    "a.append([25,\"Sita\",\"chitwan\"])\n",
    "print(a)"
   ]
  },
  {
   "cell_type": "code",
   "execution_count": 3,
   "id": "8000afb3",
   "metadata": {},
   "outputs": [
    {
     "name": "stdout",
     "output_type": "stream",
     "text": [
      "[['rama', 23, 'london'], ['shyam', 15, 'bkt'], ['Hari', 18, 'ktm'], [25, 'Sita', 'chitwan']]\n"
     ]
    }
   ],
   "source": [
    "a[0] = [\"rama\",23,'london']\n",
    "print(a)"
   ]
  },
  {
   "cell_type": "code",
   "execution_count": 5,
   "id": "cf0870c6",
   "metadata": {},
   "outputs": [
    {
     "name": "stdout",
     "output_type": "stream",
     "text": [
      "[['rama', 23, 'New York'], ['shyam', 15, 'bkt'], ['Hari', 18, 'ktm'], [25, 'Sita', 'chitwan']]\n"
     ]
    }
   ],
   "source": [
    "a[0][2] = 'New York'\n",
    "print(a)"
   ]
  },
  {
   "cell_type": "code",
   "execution_count": 1,
   "id": "b02fb652",
   "metadata": {},
   "outputs": [
    {
     "name": "stdout",
     "output_type": "stream",
     "text": [
      "Enter surname of Ram= prasad\n",
      "Enter surname of Shyam= kc\n",
      "Enter surname of Hari= bc\n",
      "[['Ram', 'prasad', 89, 'Kathmandu'], ['Shyam', 'kc', 56, 'Bhaktapur'], ['Hari', 'bc', 34, 'Lalitpur']]\n"
     ]
    }
   ],
   "source": [
    "info = [[\"Ram\",89,\"Kathmandu\"],\n",
    "       [\"Shyam\",56,\"Bhaktapur\"],\n",
    "       [\"Hari\",34,\"Lalitpur\"]]\n",
    "for i in range(0,len(info)):\n",
    "    x = input(f\"Enter surname of {info[i][0]}= \")\n",
    "    info[i].insert(1,x)\n",
    "    \n",
    "print(info)"
   ]
  },
  {
   "cell_type": "code",
   "execution_count": 2,
   "id": "a87ba0e9",
   "metadata": {},
   "outputs": [
    {
     "name": "stdout",
     "output_type": "stream",
     "text": [
      "Enter name = ram\n",
      "['Ram', 89, 'Kathmandu']\n"
     ]
    }
   ],
   "source": [
    "info = [[\"Ram\",89,\"Kathmandu\"],\n",
    "       [\"Shyam\",56,\"Bhaktapur\"],\n",
    "       [\"Hari\",34,\"Lalitpur\"]]\n",
    "name = input(\"Enter name = \")\n",
    "for i in info:\n",
    "    if name.lower() == i[0].lower():\n",
    "        print(i)"
   ]
  },
  {
   "cell_type": "code",
   "execution_count": null,
   "id": "28297950",
   "metadata": {},
   "outputs": [],
   "source": []
  }
 ],
 "metadata": {
  "kernelspec": {
   "display_name": "Python 3 (ipykernel)",
   "language": "python",
   "name": "python3"
  },
  "language_info": {
   "codemirror_mode": {
    "name": "ipython",
    "version": 3
   },
   "file_extension": ".py",
   "mimetype": "text/x-python",
   "name": "python",
   "nbconvert_exporter": "python",
   "pygments_lexer": "ipython3",
   "version": "3.11.5"
  }
 },
 "nbformat": 4,
 "nbformat_minor": 5
}

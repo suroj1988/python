{
 "cells": [
  {
   "cell_type": "code",
   "execution_count": 1,
   "id": "f43ba9a3",
   "metadata": {},
   "outputs": [],
   "source": [
    "# file = open('<file_name>','<mode>')\n",
    "# <operation>\n",
    "# file.close()\n",
    "\n",
    "# with open('<file_name>','<mode>') as file:\n",
    "#     <operation>\n",
    "\n",
    "\n",
    "# modes\n",
    "# r -> read\n",
    "# x -> create\n",
    "# w -> write\n",
    "# a -> append"
   ]
  },
  {
   "cell_type": "code",
   "execution_count": 1,
   "id": "5e809b6e",
   "metadata": {},
   "outputs": [],
   "source": [
    "file = open(\"data.txt\",\"x\")\n",
    "file.close()"
   ]
  },
  {
   "cell_type": "code",
   "execution_count": 3,
   "id": "e8deec47",
   "metadata": {},
   "outputs": [
    {
     "name": "stdout",
     "output_type": "stream",
     "text": [
      "hello \n",
      "hello \n",
      "hello world\n",
      "hello\n",
      "<class 'str'>\n"
     ]
    }
   ],
   "source": [
    "file = open('data.txt','r')\n",
    "x = file.read()\n",
    "print(x)\n",
    "print(type(x))\n",
    "file.close()"
   ]
  },
  {
   "cell_type": "code",
   "execution_count": 4,
   "id": "68a3f6f8",
   "metadata": {},
   "outputs": [
    {
     "data": {
      "text/plain": [
       "'hello \\nhello \\nhello world\\nhello'"
      ]
     },
     "execution_count": 4,
     "metadata": {},
     "output_type": "execute_result"
    }
   ],
   "source": [
    "x"
   ]
  },
  {
   "cell_type": "code",
   "execution_count": 5,
   "id": "ec1f9fd0",
   "metadata": {},
   "outputs": [
    {
     "name": "stdout",
     "output_type": "stream",
     "text": [
      "['hello ', 'hello ', 'hello world', 'hello']\n"
     ]
    }
   ],
   "source": [
    "y = x.split(\"\\n\")\n",
    "print(y)"
   ]
  },
  {
   "cell_type": "code",
   "execution_count": 4,
   "id": "0402dc1f",
   "metadata": {},
   "outputs": [
    {
     "name": "stdout",
     "output_type": "stream",
     "text": [
      "Enter line no = 3\n",
      "3 hello world\n"
     ]
    }
   ],
   "source": [
    "file = open('data.txt','r')\n",
    "x = file.read()\n",
    "y = x.split(\"\\n\")\n",
    "line_no = int(input(\"Enter line no = \"))\n",
    "print(y[line_no-1])"
   ]
  },
  {
   "cell_type": "code",
   "execution_count": 6,
   "id": "7d667fea",
   "metadata": {},
   "outputs": [],
   "source": [
    "#write in file\n",
    "file = open(\"data.txt\",\"w\")\n",
    "file.write(\"I am Suroj\")\n",
    "file.close()"
   ]
  },
  {
   "cell_type": "code",
   "execution_count": 7,
   "id": "b511998d",
   "metadata": {},
   "outputs": [
    {
     "name": "stdout",
     "output_type": "stream",
     "text": [
      "Enter no of students = 3\n",
      "Enter name = ram\n",
      "Enter name = shyam\n",
      "Enter name = hari\n",
      "ram\n",
      "shyam\n",
      "hari\n",
      "\n"
     ]
    }
   ],
   "source": [
    "#write in file\n",
    "students = \"\"\n",
    "no_of_students = int(input(\"Enter no of students = \"))\n",
    "for i in range(no_of_students):\n",
    "    name = input(\"Enter name = \")\n",
    "    students = students + name + \"\\n\"\n",
    "print(students)\n",
    "\n",
    "file = open('data.txt','w')\n",
    "file.write(students)\n",
    "file.close()"
   ]
  },
  {
   "cell_type": "code",
   "execution_count": 2,
   "id": "ec628a74",
   "metadata": {},
   "outputs": [
    {
     "name": "stdout",
     "output_type": "stream",
     "text": [
      "Enter n = 3\n",
      "Enter product name = momo \n",
      "Enter price = 100\n",
      "Enter qty = 2\n",
      "Enter product name = coke\n",
      "Enter price = 80\n",
      "Enter qty = 2\n",
      "Enter product name = cake\n",
      "Enter price = 100\n",
      "Enter qty = 3\n",
      "momo \t100.0\t2.0\t200.0\n",
      "coke\t80.0\t2.0\t160.0\n",
      "cake\t100.0\t3.0\t300.0\n",
      "\n"
     ]
    }
   ],
   "source": [
    "bill = \"\"\n",
    "# grand_total = 0\n",
    "n = int(input(\"Enter n = \"))\n",
    "for i in range(n):\n",
    "    name = input(\"Enter product name = \")\n",
    "    price = float(input(\"Enter price = \"))\n",
    "    qty = float(input(\"Enter qty = \"))\n",
    "    total = price * qty\n",
    "    row = f\"{name}\\t{price}\\t{qty}\\t{total}\\n\"\n",
    "    bill = bill + row\n",
    "#     grand_total = grand_total + total\n",
    "\n",
    "print(bill)\n",
    "file = open('bill.txt','w')\n",
    "file.write('product\\tprice\\tqty\\ttotal\\n')\n",
    "file.write(bill)\n",
    "# file.write(str(grand_total))\n",
    "file.close()"
   ]
  },
  {
   "cell_type": "code",
   "execution_count": 1,
   "id": "c5232497",
   "metadata": {},
   "outputs": [
    {
     "name": "stdout",
     "output_type": "stream",
     "text": [
      "Enter n = 3\n",
      "Enter product name = pen\n",
      "Enter price = 4\n",
      "Enter qty = 3\n",
      "Enter product name = soap\n",
      "Enter price = 50\n",
      "Enter qty = 5\n",
      "Enter product name = copy\n",
      "Enter price = 60\n",
      "Enter qty = 5\n",
      "pen,4.0,3.0,12.0\n",
      "soap,50.0,5.0,250.0\n",
      "copy,60.0,5.0,300.0\n",
      "\n"
     ]
    }
   ],
   "source": [
    "bill = \"\"\n",
    "grand_total = 0\n",
    "n = int(input(\"Enter n = \"))\n",
    "for i in range(n):\n",
    "    name = input(\"Enter product name = \")\n",
    "    price = float(input(\"Enter price = \"))\n",
    "    qty = float(input(\"Enter qty = \"))\n",
    "    total = price * qty\n",
    "    row = f\"{name},{price},{qty},{total}\\n\"\n",
    "    bill = bill + row\n",
    "    grand_total = grand_total + total\n",
    "\n",
    "print(bill)\n",
    "file = open('bill.csv','w')\n",
    "file.write('product,price,qty,total\\n')\n",
    "file.write(bill)\n",
    "file.write(str(grand_total))\n",
    "file.close()"
   ]
  },
  {
   "cell_type": "code",
   "execution_count": 3,
   "id": "4423873a",
   "metadata": {},
   "outputs": [
    {
     "name": "stdout",
     "output_type": "stream",
     "text": [
      "product\tprice\tqty\ttotal\n",
      "momo \t100.0\t2.0\t200.0\n",
      "coke\t80.0\t2.0\t160.0\n",
      "cake\t100.0\t3.0\t300.0\n",
      "\n"
     ]
    }
   ],
   "source": [
    "file = open('bill.txt','r')\n",
    "data = file.read()\n",
    "print(data)\n",
    "file.close()"
   ]
  },
  {
   "cell_type": "code",
   "execution_count": 4,
   "id": "2046e793",
   "metadata": {},
   "outputs": [
    {
     "data": {
      "text/plain": [
       "[['product', 'price', 'qty', 'total'],\n",
       " ['momo ', '100.0', '2.0', '200.0'],\n",
       " ['coke', '80.0', '2.0', '160.0'],\n",
       " ['cake', '100.0', '3.0', '300.0']]"
      ]
     },
     "execution_count": 4,
     "metadata": {},
     "output_type": "execute_result"
    }
   ],
   "source": [
    "list_bill = []\n",
    "ld = data.split('\\n')[:-1]\n",
    "for i in ld:\n",
    "    x = i.split('\\t')\n",
    "    list_bill.append(x)\n",
    "\n",
    "list_bill"
   ]
  },
  {
   "cell_type": "code",
   "execution_count": 5,
   "id": "88339e3d",
   "metadata": {},
   "outputs": [
    {
     "name": "stdout",
     "output_type": "stream",
     "text": [
      "Enter n = 3\n",
      "Enter product name = momo\n",
      "Enter price = 100\n",
      "Enter qty = 4\n",
      "Enter product name = coke\n",
      "Enter price = 45\n",
      "Enter qty = 5\n",
      "Enter product name = cake\n",
      "Enter price = 200\n",
      "Enter qty = 6\n",
      "momo,100.0,4.0,400.0\n",
      "coke,45.0,5.0,225.0\n",
      "cake,200.0,6.0,1200.0\n",
      "\n"
     ]
    }
   ],
   "source": [
    "bill = \"\"\n",
    "# grand_total = 0\n",
    "n = int(input(\"Enter n = \"))\n",
    "for i in range(n):\n",
    "    name = input(\"Enter product name = \")\n",
    "    price = float(input(\"Enter price = \"))\n",
    "    qty = float(input(\"Enter qty = \"))\n",
    "    total = price * qty\n",
    "    row = f\"{name},{price},{qty},{total}\\n\"\n",
    "    bill = bill + row\n",
    "    # grand_total = grand_total + total\n",
    "\n",
    "print(bill)\n",
    "file = open('bill1.csv','w')\n",
    "file.write('product,price,qty,total\\n')\n",
    "file.write(bill)\n",
    "file.close()"
   ]
  },
  {
   "cell_type": "code",
   "execution_count": 6,
   "id": "197905f9",
   "metadata": {},
   "outputs": [
    {
     "data": {
      "text/plain": [
       "[['momo', 100.0, 4.0, 400.0],\n",
       " ['coke', 45.0, 5.0, 225.0],\n",
       " ['cake', 200.0, 6.0, 1200.0]]"
      ]
     },
     "execution_count": 6,
     "metadata": {},
     "output_type": "execute_result"
    }
   ],
   "source": [
    "# The the above data\n",
    "list_bill = []\n",
    "ld = bill.split('\\n')[:-1]\n",
    "for i in ld:\n",
    "    x = i.split(',')\n",
    "    x[1] = float(x[1])\n",
    "    x[2] = float(x[2])\n",
    "    x[3] = float(x[3])\n",
    "    list_bill.append(x)\n",
    "\n",
    "list_bill"
   ]
  },
  {
   "cell_type": "code",
   "execution_count": 2,
   "id": "19d665f8",
   "metadata": {},
   "outputs": [
    {
     "data": {
      "text/html": [
       "<div>\n",
       "<style scoped>\n",
       "    .dataframe tbody tr th:only-of-type {\n",
       "        vertical-align: middle;\n",
       "    }\n",
       "\n",
       "    .dataframe tbody tr th {\n",
       "        vertical-align: top;\n",
       "    }\n",
       "\n",
       "    .dataframe thead th {\n",
       "        text-align: right;\n",
       "    }\n",
       "</style>\n",
       "<table border=\"1\" class=\"dataframe\">\n",
       "  <thead>\n",
       "    <tr style=\"text-align: right;\">\n",
       "      <th></th>\n",
       "      <th>product</th>\n",
       "      <th>price</th>\n",
       "      <th>qty</th>\n",
       "      <th>total</th>\n",
       "    </tr>\n",
       "  </thead>\n",
       "  <tbody>\n",
       "    <tr>\n",
       "      <th>0</th>\n",
       "      <td>momo</td>\n",
       "      <td>100.0</td>\n",
       "      <td>4.0</td>\n",
       "      <td>400.0</td>\n",
       "    </tr>\n",
       "    <tr>\n",
       "      <th>1</th>\n",
       "      <td>coke</td>\n",
       "      <td>45.0</td>\n",
       "      <td>5.0</td>\n",
       "      <td>225.0</td>\n",
       "    </tr>\n",
       "    <tr>\n",
       "      <th>2</th>\n",
       "      <td>cake</td>\n",
       "      <td>200.0</td>\n",
       "      <td>6.0</td>\n",
       "      <td>1200.0</td>\n",
       "    </tr>\n",
       "  </tbody>\n",
       "</table>\n",
       "</div>"
      ],
      "text/plain": [
       "  product  price  qty   total\n",
       "0    momo  100.0  4.0   400.0\n",
       "1    coke   45.0  5.0   225.0\n",
       "2    cake  200.0  6.0  1200.0"
      ]
     },
     "execution_count": 2,
     "metadata": {},
     "output_type": "execute_result"
    }
   ],
   "source": [
    "import pandas as pd\n",
    "a = pd.read_csv(\"bill1.csv\")\n",
    "a"
   ]
  },
  {
   "cell_type": "code",
   "execution_count": 3,
   "id": "ac4a1db5",
   "metadata": {},
   "outputs": [],
   "source": [
    "import csv\n",
    "a = [['Name','Price','Quantity','Total'],\n",
    "     ['Momo',200,3,600],\n",
    "     ['Coke',100,2,200]]\n",
    "with open('bill2.csv',\"w\") as file:\n",
    "    x = csv.writer(file)\n",
    "    x.writerows(a)"
   ]
  },
  {
   "cell_type": "code",
   "execution_count": 4,
   "id": "3a06a410",
   "metadata": {},
   "outputs": [
    {
     "name": "stdout",
     "output_type": "stream",
     "text": [
      "{'Name': 'Momo', 'Price': '200', 'Quantity': '3', 'Total': '600'}\n",
      "{'Name': 'Coke', 'Price': '100', 'Quantity': '2', 'Total': '200'}\n"
     ]
    }
   ],
   "source": [
    "import csv\n",
    "with open('bill2.csv','r') as file:\n",
    "    reader = csv.DictReader(file)\n",
    "    for i in reader:\n",
    "        print(i)"
   ]
  },
  {
   "cell_type": "code",
   "execution_count": 6,
   "id": "4f19c984",
   "metadata": {},
   "outputs": [
    {
     "name": "stdout",
     "output_type": "stream",
     "text": [
      "[{'Name': 'Momo', 'Price': '200', 'Quantity': '3', 'Total': '600'}, {'Name': 'Coke', 'Price': '100', 'Quantity': '2', 'Total': '200'}]\n"
     ]
    }
   ],
   "source": [
    "import csv\n",
    "data = []\n",
    "with open('bill2.csv','r') as file:\n",
    "    reader = csv.DictReader(file)\n",
    "    for i in reader:\n",
    "        data.append(i)\n",
    "print(data)"
   ]
  },
  {
   "cell_type": "code",
   "execution_count": 10,
   "id": "ba92c819",
   "metadata": {},
   "outputs": [
    {
     "name": "stdout",
     "output_type": "stream",
     "text": [
      "['product,price,qty,total', 'momo,100.0,4.0,400.0', 'coke,45.0,5.0,225.0', 'cake,200.0,6.0,1200.0', '']\n"
     ]
    }
   ],
   "source": [
    "with open(\"bill1.csv\",\"r\") as file:\n",
    "    x = file.read()\n",
    "    y = x.split('\\n')\n",
    "    print(y)\n",
    "    "
   ]
  },
  {
   "cell_type": "code",
   "execution_count": 11,
   "id": "fc5fbd93",
   "metadata": {},
   "outputs": [
    {
     "name": "stdout",
     "output_type": "stream",
     "text": [
      "['product,price,qty,total', 'momo,100.0,4.0,400.0', 'coke,45.0,5.0,225.0', 'cake,200.0,6.0,1200.0', '']\n",
      "[['product', 'price', 'qty', 'total'], ['momo', '100.0', '4.0', '400.0'], ['coke', '45.0', '5.0', '225.0'], ['cake', '200.0', '6.0', '1200.0']]\n"
     ]
    }
   ],
   "source": [
    "d = []\n",
    "with open(\"bill1.csv\",\"r\") as file:\n",
    "    x = file.read()\n",
    "    y = x.split('\\n')\n",
    "    print(y)\n",
    "    \n",
    "for i in y[0:-1]:\n",
    "    d.append(i.split(','))\n",
    "print(d)"
   ]
  },
  {
   "cell_type": "code",
   "execution_count": 3,
   "id": "7df93808",
   "metadata": {},
   "outputs": [],
   "source": [
    "import csv\n",
    "a =[\"hotpot\",200,2,400]\n",
    "with open(\"bill2.csv\",\"a\") as file:\n",
    "    x = csv.writer(file)\n",
    "    x.writerow(a)\n",
    "    "
   ]
  },
  {
   "cell_type": "code",
   "execution_count": null,
   "id": "c3c0ef5f",
   "metadata": {},
   "outputs": [],
   "source": []
  }
 ],
 "metadata": {
  "kernelspec": {
   "display_name": "Python 3 (ipykernel)",
   "language": "python",
   "name": "python3"
  },
  "language_info": {
   "codemirror_mode": {
    "name": "ipython",
    "version": 3
   },
   "file_extension": ".py",
   "mimetype": "text/x-python",
   "name": "python",
   "nbconvert_exporter": "python",
   "pygments_lexer": "ipython3",
   "version": "3.11.5"
  }
 },
 "nbformat": 4,
 "nbformat_minor": 5
}

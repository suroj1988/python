{
 "cells": [
  {
   "cell_type": "code",
   "execution_count": 1,
   "id": "c61e321b",
   "metadata": {},
   "outputs": [],
   "source": [
    "# Dict\n",
    "# -Indexing\n",
    "# -Multiple data \n",
    "# -Ordered\n",
    "# -Mutable\n",
    "# d = {<key>:<value>, <key>:<value>, <key>:<value>}"
   ]
  },
  {
   "cell_type": "code",
   "execution_count": 2,
   "id": "a03b2ed3",
   "metadata": {},
   "outputs": [
    {
     "name": "stdout",
     "output_type": "stream",
     "text": [
      "{'a': 'apple', 'b': 'ball'}\n",
      "<class 'dict'>\n",
      "2\n"
     ]
    }
   ],
   "source": [
    "d = {\"a\":\"apple\",\"b\":\"ball\"}\n",
    "print(d)\n",
    "print(type(d))\n",
    "print(len(d))"
   ]
  },
  {
   "cell_type": "code",
   "execution_count": 3,
   "id": "6a3b6888",
   "metadata": {},
   "outputs": [
    {
     "name": "stdout",
     "output_type": "stream",
     "text": [
      "apple\n"
     ]
    }
   ],
   "source": [
    "print(d[\"a\"])"
   ]
  },
  {
   "cell_type": "code",
   "execution_count": 4,
   "id": "eac4903a",
   "metadata": {},
   "outputs": [
    {
     "data": {
      "text/plain": [
       "{1: 'apple', 2: 'ball', 3: 'cat'}"
      ]
     },
     "execution_count": 4,
     "metadata": {},
     "output_type": "execute_result"
    }
   ],
   "source": [
    "# d = dict()\n",
    "d = {}\n",
    "d[1] = \"apple\"\n",
    "d[2] = \"ball\"\n",
    "d[3] = \"cat\"\n",
    "d"
   ]
  },
  {
   "cell_type": "code",
   "execution_count": 5,
   "id": "c171fbc2",
   "metadata": {},
   "outputs": [
    {
     "data": {
      "text/plain": [
       "{1: 'apple', 2: 'bomb', 3: 'cat'}"
      ]
     },
     "execution_count": 5,
     "metadata": {},
     "output_type": "execute_result"
    }
   ],
   "source": [
    "d = {1:\"apple\",2:\"ball\",3:\"cat\"}\n",
    "d[2] = \"bomb\"\n",
    "d"
   ]
  },
  {
   "cell_type": "code",
   "execution_count": 6,
   "id": "78b27ad1",
   "metadata": {},
   "outputs": [
    {
     "name": "stdout",
     "output_type": "stream",
     "text": [
      "1\n",
      "2\n",
      "3\n"
     ]
    }
   ],
   "source": [
    "d = {1:\"apple\",2:\"ball\",3:\"cat\"}\n",
    "for i in d:\n",
    "    print(i)"
   ]
  },
  {
   "cell_type": "code",
   "execution_count": 7,
   "id": "69ad2a0c",
   "metadata": {},
   "outputs": [
    {
     "name": "stdout",
     "output_type": "stream",
     "text": [
      "apple\n",
      "ball\n",
      "cat\n"
     ]
    }
   ],
   "source": [
    "d = {1:\"apple\",2:\"ball\",3:\"cat\"}\n",
    "for i in d:\n",
    "    print(d[i])"
   ]
  },
  {
   "cell_type": "code",
   "execution_count": 9,
   "id": "41000067",
   "metadata": {},
   "outputs": [
    {
     "name": "stdout",
     "output_type": "stream",
     "text": [
      "apple\n",
      "ball\n",
      "cat\n"
     ]
    }
   ],
   "source": [
    "d = {1:\"apple\",2:\"ball\",3:\"cat\"}\n",
    "for i in d.values():\n",
    "    print(i)"
   ]
  },
  {
   "cell_type": "code",
   "execution_count": 10,
   "id": "01a776d3",
   "metadata": {},
   "outputs": [
    {
     "name": "stdout",
     "output_type": "stream",
     "text": [
      "(1, 'apple')\n",
      "(2, 'ball')\n",
      "(3, 'cat')\n"
     ]
    }
   ],
   "source": [
    "d = {1:\"apple\",2:\"ball\",3:\"cat\"}\n",
    "for i in d.items():\n",
    "    print(i)"
   ]
  },
  {
   "cell_type": "code",
   "execution_count": 11,
   "id": "b0704978",
   "metadata": {},
   "outputs": [
    {
     "name": "stdout",
     "output_type": "stream",
     "text": [
      "enter no. = 2\n",
      "enter name = ram\n",
      "enter no. = 98796\n",
      "enter name = hari\n",
      "enter no. = 898765\n",
      "{'ram': 98796, 'hari': 898765}\n"
     ]
    }
   ],
   "source": [
    "d = {}\n",
    "n = int(input(\"enter no. = \"))\n",
    "for i in range(n):\n",
    "    name = input(\"enter name = \")\n",
    "    number = int(input(\"enter no. = \"))\n",
    "    d[name] = number\n",
    "print(d)"
   ]
  },
  {
   "cell_type": "code",
   "execution_count": 13,
   "id": "d75afeec",
   "metadata": {},
   "outputs": [
    {
     "name": "stdout",
     "output_type": "stream",
     "text": [
      "{1: 'apple', 2: 'ball'}\n"
     ]
    }
   ],
   "source": [
    "# No + *\n",
    "# update\n",
    "d = {1:\"apple\"}\n",
    "c = {2:\"ball\"}\n",
    "d.update(c)\n",
    "print(d)"
   ]
  },
  {
   "cell_type": "code",
   "execution_count": 14,
   "id": "8aa3f96d",
   "metadata": {},
   "outputs": [
    {
     "data": {
      "text/plain": [
       "{1: 'apple', 3: 'cat'}"
      ]
     },
     "execution_count": 14,
     "metadata": {},
     "output_type": "execute_result"
    }
   ],
   "source": [
    "d = {1:\"apple\",2:\"ball\",3:\"cat\"}\n",
    "del d[2]\n",
    "d"
   ]
  },
  {
   "cell_type": "code",
   "execution_count": 15,
   "id": "9a8f9a4c",
   "metadata": {},
   "outputs": [
    {
     "data": {
      "text/plain": [
       "{2: 'ball', 3: 'cat'}"
      ]
     },
     "execution_count": 15,
     "metadata": {},
     "output_type": "execute_result"
    }
   ],
   "source": [
    "d = {1:\"apple\",2:\"ball\",3:\"cat\"}\n",
    "d.pop(1)\n",
    "d"
   ]
  },
  {
   "cell_type": "code",
   "execution_count": 16,
   "id": "bbde5e3e",
   "metadata": {},
   "outputs": [
    {
     "name": "stdout",
     "output_type": "stream",
     "text": [
      "{2: 'ball', 3: 'cat'}\n",
      "apple\n"
     ]
    }
   ],
   "source": [
    "d = {1:\"apple\",2:\"ball\",3:\"cat\"}\n",
    "p = d.pop(1)\n",
    "print(d)\n",
    "print(p)\n"
   ]
  },
  {
   "cell_type": "code",
   "execution_count": 17,
   "id": "c6dbcace",
   "metadata": {},
   "outputs": [
    {
     "data": {
      "text/plain": [
       "{'Ram': [984778765, 980889765], 'Shyam': [9845667654, 980887876]}"
      ]
     },
     "execution_count": 17,
     "metadata": {},
     "output_type": "execute_result"
    }
   ],
   "source": [
    "# list inside dict\n",
    "a = {'Ram':[984778765,980889765],'Shyam':[9845667654,980887876]}\n",
    "a"
   ]
  },
  {
   "cell_type": "code",
   "execution_count": 18,
   "id": "b9500618",
   "metadata": {},
   "outputs": [
    {
     "data": {
      "text/plain": [
       "980889765"
      ]
     },
     "execution_count": 18,
     "metadata": {},
     "output_type": "execute_result"
    }
   ],
   "source": [
    "a['Ram'][1]"
   ]
  },
  {
   "cell_type": "code",
   "execution_count": 20,
   "id": "54e486ef",
   "metadata": {},
   "outputs": [
    {
     "data": {
      "text/plain": [
       "{'Ram': [984778765, 1234567], 'Shyam': [9845667654, 980887876]}"
      ]
     },
     "execution_count": 20,
     "metadata": {},
     "output_type": "execute_result"
    }
   ],
   "source": [
    "a['Ram'][1] = 1234567\n",
    "a"
   ]
  },
  {
   "cell_type": "code",
   "execution_count": 21,
   "id": "44a2448e",
   "metadata": {},
   "outputs": [
    {
     "name": "stdout",
     "output_type": "stream",
     "text": [
      "Enter n = 2\n",
      "Enter name = ram\n",
      "Enter ntc phone = 123\n",
      "Enter ncell phone = 456\n",
      "Enter name = shyam\n",
      "Enter ntc phone = 780\n",
      "Enter ncell phone = 789\n",
      "{'ram': [123, 456], 'shyam': [780, 789]}\n"
     ]
    }
   ],
   "source": [
    "d = {}\n",
    "n = int(input(\"Enter n = \"))\n",
    "for i in range(n):\n",
    "    name = input(\"Enter name = \")\n",
    "    ntc_phone = int(input(\"Enter ntc phone = \"))\n",
    "    ncell_phone = int(input(\"Enter ncell phone = \"))\n",
    "\n",
    "    d[name] = [ntc_phone,ncell_phone]\n",
    "    \n",
    "print(d)"
   ]
  },
  {
   "cell_type": "code",
   "execution_count": 22,
   "id": "130c2065",
   "metadata": {},
   "outputs": [
    {
     "data": {
      "text/plain": [
       "{'name': ['Ram', 'Shyam', 'Hari', 'Ram'],\n",
       " 'age': [78, 89, 67, 89],\n",
       " 'add': ['Kathmandu', 'Bhaktapur', 'Lalitpur', 'Kathmandu']}"
      ]
     },
     "execution_count": 22,
     "metadata": {},
     "output_type": "execute_result"
    }
   ],
   "source": [
    "info = {'name':['Ram',\"Shyam\",\"Hari\",\"Ram\"],\n",
    "       'age':[78,89,67,89],\n",
    "       'add':['Kathmandu','Bhaktapur','Lalitpur',\"Kathmandu\"]}\n",
    "info"
   ]
  },
  {
   "cell_type": "code",
   "execution_count": 25,
   "id": "98095623",
   "metadata": {},
   "outputs": [
    {
     "name": "stdout",
     "output_type": "stream",
     "text": [
      "Ram\n",
      "78\n",
      "Kathmandu\n"
     ]
    }
   ],
   "source": [
    "print(info['name'][0])\n",
    "print(info['age'][0])\n",
    "print(info['add'][0])"
   ]
  },
  {
   "cell_type": "code",
   "execution_count": 26,
   "id": "7acea0da",
   "metadata": {},
   "outputs": [
    {
     "name": "stdout",
     "output_type": "stream",
     "text": [
      "Ram 78 Kathmandu\n",
      "Ram 89 Kathmandu\n"
     ]
    }
   ],
   "source": [
    "c = 0\n",
    "for i in info['name']:\n",
    "    if \"Ram\" == i:\n",
    "        print(info['name'][c],info['age'][c],info['add'][c])\n",
    "\n",
    "    c = c+1"
   ]
  },
  {
   "cell_type": "code",
   "execution_count": 1,
   "id": "02478dfc",
   "metadata": {},
   "outputs": [
    {
     "data": {
      "text/plain": [
       "[{1: 'apple', 2: 'ball'}, {3: 'cat', 4: 'dog'}]"
      ]
     },
     "execution_count": 1,
     "metadata": {},
     "output_type": "execute_result"
    }
   ],
   "source": [
    "# dict inside list\n",
    "a = [{1:\"apple\",2:\"ball\"}, {3:\"cat\",4:\"dog\"}]\n",
    "a"
   ]
  },
  {
   "cell_type": "code",
   "execution_count": 2,
   "id": "26de013d",
   "metadata": {},
   "outputs": [
    {
     "name": "stdout",
     "output_type": "stream",
     "text": [
      "{1: 'apple', 2: 'ball'}\n"
     ]
    }
   ],
   "source": [
    "print(a[0])"
   ]
  },
  {
   "cell_type": "code",
   "execution_count": 3,
   "id": "dd1ca925",
   "metadata": {},
   "outputs": [
    {
     "name": "stdout",
     "output_type": "stream",
     "text": [
      "apple\n"
     ]
    }
   ],
   "source": [
    "print(a[0][1])"
   ]
  },
  {
   "cell_type": "code",
   "execution_count": 4,
   "id": "4111470a",
   "metadata": {},
   "outputs": [
    {
     "data": {
      "text/plain": [
       "'Jhapa'"
      ]
     },
     "execution_count": 4,
     "metadata": {},
     "output_type": "execute_result"
    }
   ],
   "source": [
    "# dict inside list\n",
    "data = [{'name':'Ram','age':45,'add':'Kathmandu'},\n",
    "       {'name':'Shyam','age':54,'add':'Kathmandu'},\n",
    "       {'name':'Hari','age':25,'add':'Jhapa'}]\n",
    "data[2]['add']"
   ]
  },
  {
   "cell_type": "code",
   "execution_count": 5,
   "id": "23b06180",
   "metadata": {},
   "outputs": [
    {
     "data": {
      "text/plain": [
       "[{'name': 'Ram', 'age': 45, 'add': ['Kathmandu', 'Jhapa']},\n",
       " {'name': 'Shyam', 'age': 54, 'add': ['Kathmandu', 'Dhading']},\n",
       " {'name': 'Hari', 'age': 25, 'add': ['Jhapa', 'Kapan']}]"
      ]
     },
     "execution_count": 5,
     "metadata": {},
     "output_type": "execute_result"
    }
   ],
   "source": [
    "# dict inside list\n",
    "data = [{'name':'Ram','age':45,'add':['Kathmandu','Jhapa']},\n",
    "       {'name':'Shyam','age':54,'add':['Kathmandu','Dhading']},\n",
    "       {'name':'Hari','age':25,'add':['Jhapa','Kapan']}]\n",
    "data"
   ]
  },
  {
   "cell_type": "code",
   "execution_count": 6,
   "id": "da3d3895",
   "metadata": {},
   "outputs": [
    {
     "data": {
      "text/plain": [
       "{1: 'ball', 2: 'ball'}"
      ]
     },
     "execution_count": 6,
     "metadata": {},
     "output_type": "execute_result"
    }
   ],
   "source": [
    "d = {1:\"apple\",2:\"ball\",1:\"ball\"}\n",
    "d"
   ]
  },
  {
   "cell_type": "code",
   "execution_count": 7,
   "id": "24415f63",
   "metadata": {},
   "outputs": [
    {
     "data": {
      "text/plain": [
       "{1: 'apple', 2: 'ball', 3: 'ball'}"
      ]
     },
     "execution_count": 7,
     "metadata": {},
     "output_type": "execute_result"
    }
   ],
   "source": [
    "d = {1:\"apple\",2:\"ball\",3:\"ball\"}\n",
    "d"
   ]
  },
  {
   "cell_type": "code",
   "execution_count": 9,
   "id": "60fe8f51",
   "metadata": {},
   "outputs": [
    {
     "name": "stdout",
     "output_type": "stream",
     "text": [
      "{1: {'name': 'Ram', 'age': 45, 'add': 'Kathmandu'}, 2: {'name': 'Shyam', 'age': 54, 'add': 'Kathmandu'}, 3: {'name': 'Hari', 'age': 25, 'add': 'Jhapa'}}\n"
     ]
    }
   ],
   "source": [
    "# dict inside dict\n",
    "data = {1:{'name':'Ram','age':45,'add':'Kathmandu'},\n",
    "       2:{'name':'Shyam','age':54,'add':'Kathmandu'},\n",
    "       3:{'name':'Hari','age':25,'add':'Jhapa'}}\n",
    "print(data)"
   ]
  },
  {
   "cell_type": "code",
   "execution_count": 10,
   "id": "bc861b5d",
   "metadata": {},
   "outputs": [],
   "source": [
    "\n",
    "# WAP to create list inside dict with CRUD\n"
   ]
  },
  {
   "cell_type": "code",
   "execution_count": 11,
   "id": "3292334d",
   "metadata": {},
   "outputs": [
    {
     "name": "stdout",
     "output_type": "stream",
     "text": [
      "Enter n = 2\n",
      "Enter name = ram\n",
      "Enter age = 45\n",
      "Enter add = ktm\n",
      "Enter name = hari\n",
      "Enter age = 67\n",
      "Enter add = bkt\n",
      "{'name': ['ram', 'hari'], 'age': [45, 67], 'add': ['ktm', 'bkt']}\n"
     ]
    }
   ],
   "source": [
    "d = {'name':[],'age':[],'add':[]}\n",
    "n = int(input(\"Enter n = \"))\n",
    "for i in range(n):\n",
    "    name = input(\"Enter name = \")\n",
    "    age = int(input(\"Enter age = \"))\n",
    "    add = input(\"Enter add = \")\n",
    "    d['name'].append(name)\n",
    "    d['age'].append(age)\n",
    "    d['add'].append(add)\n",
    "    \n",
    "print(d)\n"
   ]
  },
  {
   "cell_type": "code",
   "execution_count": 1,
   "id": "c18ba153",
   "metadata": {},
   "outputs": [
    {
     "name": "stdout",
     "output_type": "stream",
     "text": [
      "enter n =2\n",
      "Enter name = ram\n",
      "Enter age = 23\n",
      "Enter add = ktm\n",
      "Enter name = sde\n",
      "Enter age = 67\n",
      "Enter add = kik\n",
      "[{'name': 'ram', 'age': 23, 'add': 'ktm'}, {'name': 'sde', 'age': 67, 'add': 'kik'}]\n"
     ]
    }
   ],
   "source": [
    "l = []\n",
    "n = int(input(\"enter n =\"))\n",
    "for i in range(n):\n",
    "    name = input(\"Enter name = \")\n",
    "    age = int(input(\"Enter age = \"))\n",
    "    add = input(\"Enter add = \")\n",
    "    data = {'name':name,'age':age,'add':add}\n",
    "    l.append(data)\n",
    "    \n",
    "print(l)\n"
   ]
  },
  {
   "cell_type": "code",
   "execution_count": 2,
   "id": "cc297525",
   "metadata": {},
   "outputs": [
    {
     "name": "stdout",
     "output_type": "stream",
     "text": [
      "Enter n = 2\n",
      "Enter name = ram\n",
      "Enter age = 45\n",
      "Enter add = kui\n",
      "Enter name = hji\n",
      "Enter age = 90\n",
      "Enter add = kjhi\n",
      "{0: {'name': 'ram', 'age': 45, 'add': 'kui'}, 1: {'name': 'hji', 'age': 90, 'add': 'kjhi'}}\n"
     ]
    }
   ],
   "source": [
    "d= {}\n",
    "n = int(input(\"Enter n = \"))\n",
    "for i in range(n):\n",
    "    name = input(\"Enter name = \")\n",
    "    age = int(input(\"Enter age = \"))\n",
    "    add = input(\"Enter add = \")\n",
    "    d[i] = {'name':name,'age':age,'add':add}\n",
    "    \n",
    "print(d)"
   ]
  },
  {
   "cell_type": "code",
   "execution_count": null,
   "id": "cace4843",
   "metadata": {},
   "outputs": [],
   "source": []
  }
 ],
 "metadata": {
  "kernelspec": {
   "display_name": "Python 3 (ipykernel)",
   "language": "python",
   "name": "python3"
  },
  "language_info": {
   "codemirror_mode": {
    "name": "ipython",
    "version": 3
   },
   "file_extension": ".py",
   "mimetype": "text/x-python",
   "name": "python",
   "nbconvert_exporter": "python",
   "pygments_lexer": "ipython3",
   "version": "3.11.5"
  }
 },
 "nbformat": 4,
 "nbformat_minor": 5
}

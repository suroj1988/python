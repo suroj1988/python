{
 "cells": [
  {
   "cell_type": "code",
   "execution_count": 1,
   "id": "8d966ded",
   "metadata": {},
   "outputs": [],
   "source": [
    "# if <condition>:\n",
    "#     <operation>\n",
    "\n",
    "# elif <condition>:\n",
    "#     <opration>\n",
    "    \n",
    "# elif <condition>:\n",
    "#     <operations>\n",
    "    \n",
    "# else:\n",
    "#     <operations>\n",
    "# < > <= >= == != "
   ]
  },
  {
   "cell_type": "code",
   "execution_count": 2,
   "id": "4422897f",
   "metadata": {},
   "outputs": [
    {
     "name": "stdout",
     "output_type": "stream",
     "text": [
      "False\n"
     ]
    }
   ],
   "source": [
    "a = 10\n",
    "b = 20 \n",
    "print(a>b)"
   ]
  },
  {
   "cell_type": "code",
   "execution_count": 3,
   "id": "5d576b5f",
   "metadata": {},
   "outputs": [
    {
     "name": "stdout",
     "output_type": "stream",
     "text": [
      "True\n"
     ]
    }
   ],
   "source": [
    "a = 10\n",
    "b = 20 \n",
    "print(a<b)"
   ]
  },
  {
   "cell_type": "code",
   "execution_count": 4,
   "id": "96db9eea",
   "metadata": {},
   "outputs": [
    {
     "name": "stdout",
     "output_type": "stream",
     "text": [
      "True\n"
     ]
    }
   ],
   "source": [
    "a = 10\n",
    "b = 9 \n",
    "print(a>=b)"
   ]
  },
  {
   "cell_type": "code",
   "execution_count": 5,
   "id": "71f1cfba",
   "metadata": {},
   "outputs": [
    {
     "name": "stdout",
     "output_type": "stream",
     "text": [
      "False\n"
     ]
    }
   ],
   "source": [
    "a = 10\n",
    "b = 9 \n",
    "print(a==b)"
   ]
  },
  {
   "cell_type": "code",
   "execution_count": 6,
   "id": "5f8170c4",
   "metadata": {},
   "outputs": [
    {
     "name": "stdout",
     "output_type": "stream",
     "text": [
      "True\n"
     ]
    }
   ],
   "source": [
    "a = 10\n",
    "b = 10 \n",
    "print(a==b)"
   ]
  },
  {
   "cell_type": "code",
   "execution_count": 7,
   "id": "8ed97494",
   "metadata": {},
   "outputs": [
    {
     "name": "stdout",
     "output_type": "stream",
     "text": [
      "False\n"
     ]
    }
   ],
   "source": [
    "print(a!=b)"
   ]
  },
  {
   "cell_type": "code",
   "execution_count": 8,
   "id": "2d59b19a",
   "metadata": {},
   "outputs": [
    {
     "name": "stdout",
     "output_type": "stream",
     "text": [
      "True\n"
     ]
    }
   ],
   "source": [
    "a = 10\n",
    "b = 11 \n",
    "print(a!=b)"
   ]
  },
  {
   "cell_type": "code",
   "execution_count": 10,
   "id": "612f1186",
   "metadata": {},
   "outputs": [
    {
     "name": "stdout",
     "output_type": "stream",
     "text": [
      "enter n =6\n",
      "6 is positive no.\n"
     ]
    }
   ],
   "source": [
    "n = int(input(\"enter n =\"))\n",
    "if n >= 0:\n",
    "    print(n,\"is positive no.\")\n",
    "else:\n",
    "    print(n,\"is negative\")"
   ]
  },
  {
   "cell_type": "code",
   "execution_count": null,
   "id": "926f5e20",
   "metadata": {},
   "outputs": [],
   "source": []
  },
  {
   "cell_type": "code",
   "execution_count": null,
   "id": "2484652e",
   "metadata": {},
   "outputs": [],
   "source": [
    "n = int(input(\"enter n =\"))\n",
    "if n % 2 == 0:\n",
    "    print(\"even no.\")\n",
    "else:\n",
    "    print(\"odd no \")"
   ]
  },
  {
   "cell_type": "code",
   "execution_count": null,
   "id": "b51ceddc",
   "metadata": {},
   "outputs": [],
   "source": [
    "a = int(input(\"enter a = \"))\n",
    "b = int(input(\"enter b = \"))\n",
    "if a > b:\n",
    "    print(a,\"is greater than\",b)\n",
    "elif a < b:\n",
    "    print(b,\"is greater than\",a)\n",
    "else:\n",
    "    print(\"both are equal\")"
   ]
  },
  {
   "cell_type": "code",
   "execution_count": null,
   "id": "80245b19",
   "metadata": {},
   "outputs": [],
   "source": [
    "physics = int(input(\"enter marks =  \"))\n",
    "chemistry = int(input(\"enter marks =  \"))\n",
    "math = int(input(\"enter marks =  \"))\n",
    "nepali = int(input(\"enter marks =  \"))\n",
    "english = int(input(\"enter marks =  \"))\n",
    "social = int(input(\"enter marks =  \"))\n",
    "total = physics + chemistry + math + nepali + english + social\n",
    "per = total/6\n",
    "if per >=80:\n",
    "    grade = \"A\"\n",
    "elif per >=70:\n",
    "    grade = \"B\"\n",
    "elif per >=60:\n",
    "    grade = \"C\"\n",
    "elif per >=50:\n",
    "    grade = \"D\"\n",
    "elif per >=40:\n",
    "    grade = \"E\"\n",
    "else:\n",
    "    print(\"fail\")\n",
    "print(total)\n",
    "print(per,grade)\n",
    "\n"
   ]
  },
  {
   "cell_type": "code",
   "execution_count": null,
   "id": "81a347dd",
   "metadata": {},
   "outputs": [],
   "source": [
    "# logical\n",
    "# and &\n",
    "# or |"
   ]
  },
  {
   "cell_type": "code",
   "execution_count": null,
   "id": "97ee2427",
   "metadata": {},
   "outputs": [],
   "source": [
    "print(True and True)\n",
    "print(True and False)\n",
    "print(False and True)\n",
    "print(False and False)t"
   ]
  },
  {
   "cell_type": "code",
   "execution_count": null,
   "id": "50eda784",
   "metadata": {},
   "outputs": [],
   "source": [
    "print(True or True)\n",
    "print(True or False)\n",
    "print(False or True)\n",
    "print(False or False)"
   ]
  },
  {
   "cell_type": "code",
   "execution_count": null,
   "id": "42f3009a",
   "metadata": {},
   "outputs": [],
   "source": [
    "a = int(input(\"enter a =\"))\n",
    "b = int(input(\"enter b =\"))\n",
    "o = input( \" enter + - * / \")\n",
    "if o == \"+\":\n",
    "    print(a+b)\n",
    "elif o == \"-\":\n",
    "    print(a-b)\n",
    "elif o ==\"*\":\n",
    "    print(a*b)\n",
    "elif o ==\"/\" and b !=0:\n",
    "    print(a/b)\n",
    "elif o ==\"/\" and b ==0:\n",
    "    print(\"b cannot be zero\")\n",
    "else:\n",
    "    (\"invalid operator\")"
   ]
  },
  {
   "cell_type": "code",
   "execution_count": null,
   "id": "448afdbf",
   "metadata": {},
   "outputs": [],
   "source": [
    "physics = int(input(\"Enter physics marks = \"))\n",
    "chemistry = int(input(\"Enter chemistry marks = \"))\n",
    "math = int(input(\"Enter  math marks = \"))\n",
    "english = int(input(\"Enter english marks = \"))\n",
    "nepali = int(input(\"Enter nepali marks = \"))\n",
    "\n",
    "total = physics + chemistry + math + english + nepali\n",
    "\n",
    "per = total/5\n",
    "if (per > 80) | (per == 80):\n",
    "    grade = 'A'\n",
    "elif per > 60 or per == 60:\n",
    "    grade = 'B'\n",
    "elif per > 45 or per == 45:\n",
    "    grade = 'C'\n",
    "else:\n",
    "    grade = 'F'\n",
    "\n",
    "print(\"The total marks = \",total)\n",
    "print(\"The per = \",per)\n",
    "print(\"The grade = \",grade)"
   ]
  },
  {
   "cell_type": "code",
   "execution_count": null,
   "id": "958ddb2a",
   "metadata": {},
   "outputs": [],
   "source": [
    "#Nested if/else\n",
    "# if <condition>:\n",
    "#     if <condition>:\n",
    "#         <operation>\n",
    "\n",
    "#     else:\n",
    "#         <operation>\n",
    "\n",
    "# else:\n",
    "#     if <condition>:\n",
    "#         <operation>\n",
    "#     else:\n",
    "#         <operation>"
   ]
  },
  {
   "cell_type": "code",
   "execution_count": 11,
   "id": "f898f845",
   "metadata": {},
   "outputs": [
    {
     "name": "stdout",
     "output_type": "stream",
     "text": [
      "enter n =-7\n",
      "the no. is negative and odd\n"
     ]
    }
   ],
   "source": [
    "n = int(input(\"enter n =\"))\n",
    "if n >= 0:\n",
    "    if n % 2 == 0:\n",
    "        print(\"the no. is positive and even\")\n",
    "    else:\n",
    "        print(\"then no. is positive and odd\")\n",
    "else:\n",
    "    if n % 2 != 0:\n",
    "        print(\"the no. is negative and odd\")\n",
    "    else:\n",
    "        print(\"the no. is negative and even\")\n"
   ]
  },
  {
   "cell_type": "code",
   "execution_count": null,
   "id": "aa4edfae",
   "metadata": {},
   "outputs": [],
   "source": []
  }
 ],
 "metadata": {
  "kernelspec": {
   "display_name": "Python 3 (ipykernel)",
   "language": "python",
   "name": "python3"
  },
  "language_info": {
   "codemirror_mode": {
    "name": "ipython",
    "version": 3
   },
   "file_extension": ".py",
   "mimetype": "text/x-python",
   "name": "python",
   "nbconvert_exporter": "python",
   "pygments_lexer": "ipython3",
   "version": "3.11.5"
  }
 },
 "nbformat": 4,
 "nbformat_minor": 5
}

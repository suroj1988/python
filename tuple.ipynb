{
 "cells": [
  {
   "cell_type": "code",
   "execution_count": 1,
   "id": "d07bea17",
   "metadata": {},
   "outputs": [],
   "source": [
    "# Tuple\n",
    "# -Indexing\n",
    "# -Multiple and duplicate data\n",
    "# -Ordered\n",
    "# -Imutable\n",
    "# a = ()"
   ]
  },
  {
   "cell_type": "code",
   "execution_count": 2,
   "id": "b31624b0",
   "metadata": {},
   "outputs": [
    {
     "name": "stdout",
     "output_type": "stream",
     "text": [
      "<class 'int'>\n"
     ]
    }
   ],
   "source": [
    "a = (1)\n",
    "print(type(a))"
   ]
  },
  {
   "cell_type": "code",
   "execution_count": 3,
   "id": "6a94085c",
   "metadata": {},
   "outputs": [
    {
     "name": "stdout",
     "output_type": "stream",
     "text": [
      "<class 'tuple'>\n"
     ]
    }
   ],
   "source": [
    "a = (1,)\n",
    "print(type(a))"
   ]
  },
  {
   "cell_type": "code",
   "execution_count": 4,
   "id": "9706d78a",
   "metadata": {},
   "outputs": [
    {
     "name": "stdout",
     "output_type": "stream",
     "text": [
      "1\n",
      "(1, 2, 3, 4, 5)\n",
      "(1, 3, 5, 7, 9)\n"
     ]
    }
   ],
   "source": [
    "a = (1,2,3,4,5,6,7,8,9,1)\n",
    "print(a[0])\n",
    "print(a[0:5])\n",
    "print(a[0:10:2])"
   ]
  },
  {
   "cell_type": "code",
   "execution_count": 5,
   "id": "7a11c265",
   "metadata": {},
   "outputs": [
    {
     "name": "stdout",
     "output_type": "stream",
     "text": [
      "(1, 2, 3, 4, 5, 6, 7, 8, 9, 1)\n"
     ]
    }
   ],
   "source": [
    "a = (1,2,3,4,5,6,7,8,9,1)\n",
    "print(a)"
   ]
  },
  {
   "cell_type": "code",
   "execution_count": 6,
   "id": "c67ba91f",
   "metadata": {},
   "outputs": [
    {
     "name": "stdout",
     "output_type": "stream",
     "text": [
      "(1, 2, 3, 4, 6, 7, 8, 9)\n"
     ]
    }
   ],
   "source": [
    "a = (1,2,3,4)\n",
    "b = (6,7,8,9)\n",
    "c = a+b\n",
    "print(c)"
   ]
  },
  {
   "cell_type": "code",
   "execution_count": 8,
   "id": "7152efa3",
   "metadata": {},
   "outputs": [
    {
     "name": "stdout",
     "output_type": "stream",
     "text": [
      "(1, 2, 3, 4, 1, 2, 3, 4)\n"
     ]
    }
   ],
   "source": [
    "a = (1,2,3,4)\n",
    "b = a * 2\n",
    "print(b)"
   ]
  },
  {
   "cell_type": "code",
   "execution_count": 9,
   "id": "ce89ae2a",
   "metadata": {},
   "outputs": [],
   "source": [
    "# No append() insert() extend()\n",
    "# No update\n",
    "# No delete  remove() pop() del\n",
    "# No sort()\n",
    "# We can do max() min() sum() index()"
   ]
  },
  {
   "cell_type": "code",
   "execution_count": 2,
   "id": "22b8d13c",
   "metadata": {},
   "outputs": [
    {
     "data": {
      "text/plain": [
       "(1, 2)"
      ]
     },
     "execution_count": 2,
     "metadata": {},
     "output_type": "execute_result"
    }
   ],
   "source": [
    "a = tuple()\n",
    "a = a + (1,)\n",
    "a = a + (2,)\n",
    "a"
   ]
  },
  {
   "cell_type": "code",
   "execution_count": 1,
   "id": "7972afa9",
   "metadata": {},
   "outputs": [
    {
     "name": "stdout",
     "output_type": "stream",
     "text": [
      "enter n =3\n",
      "enter x =apple\n",
      "enter x =ball\n",
      "enter x =cat\n",
      "('apple', 'ball', 'cat')\n"
     ]
    }
   ],
   "source": [
    "a = ()\n",
    "n = int(input(\"enter n =\"))\n",
    "for i in range(n):\n",
    "    x = input(\"enter x =\")\n",
    "    a = a + (x,)\n",
    "print(a)"
   ]
  },
  {
   "cell_type": "code",
   "execution_count": 2,
   "id": "0d875fa1",
   "metadata": {},
   "outputs": [
    {
     "name": "stdout",
     "output_type": "stream",
     "text": [
      "[1, 2, 3]\n"
     ]
    }
   ],
   "source": [
    "a = (1,2,3)\n",
    "b = list(a)\n",
    "print(b)"
   ]
  },
  {
   "cell_type": "code",
   "execution_count": 3,
   "id": "09e0a278",
   "metadata": {},
   "outputs": [
    {
     "name": "stdout",
     "output_type": "stream",
     "text": [
      "(1, 2, 3)\n"
     ]
    }
   ],
   "source": [
    "a = [1,2,3]\n",
    "b = tuple(a)\n",
    "print(b)"
   ]
  },
  {
   "cell_type": "code",
   "execution_count": 4,
   "id": "bfd2848a",
   "metadata": {},
   "outputs": [
    {
     "data": {
      "text/plain": [
       "(2, 3)"
      ]
     },
     "execution_count": 4,
     "metadata": {},
     "output_type": "execute_result"
    }
   ],
   "source": [
    "a = (1,2,3)\n",
    "b = list(a)\n",
    "del b[0]\n",
    "a = tuple(b)\n",
    "a"
   ]
  },
  {
   "cell_type": "code",
   "execution_count": 5,
   "id": "8413cbcd",
   "metadata": {},
   "outputs": [
    {
     "data": {
      "text/plain": [
       "['P', 'y', 't', 'h', 'o', 'n']"
      ]
     },
     "execution_count": 5,
     "metadata": {},
     "output_type": "execute_result"
    }
   ],
   "source": [
    "a = \"Python\"\n",
    "list(a)"
   ]
  },
  {
   "cell_type": "code",
   "execution_count": 6,
   "id": "005c158f",
   "metadata": {},
   "outputs": [
    {
     "data": {
      "text/plain": [
       "('P', 'y', 't', 'h', 'o', 'n')"
      ]
     },
     "execution_count": 6,
     "metadata": {},
     "output_type": "execute_result"
    }
   ],
   "source": [
    "a = \"Python\"\n",
    "tuple(a)"
   ]
  },
  {
   "cell_type": "code",
   "execution_count": 7,
   "id": "3785a849",
   "metadata": {},
   "outputs": [
    {
     "ename": "TypeError",
     "evalue": "'int' object is not iterable",
     "output_type": "error",
     "traceback": [
      "\u001b[1;31m---------------------------------------------------------------------------\u001b[0m",
      "\u001b[1;31mTypeError\u001b[0m                                 Traceback (most recent call last)",
      "Cell \u001b[1;32mIn[7], line 2\u001b[0m\n\u001b[0;32m      1\u001b[0m a \u001b[38;5;241m=\u001b[39m \u001b[38;5;241m12\u001b[39m\n\u001b[1;32m----> 2\u001b[0m \u001b[38;5;28mlist\u001b[39m(a)\n",
      "\u001b[1;31mTypeError\u001b[0m: 'int' object is not iterable"
     ]
    }
   ],
   "source": [
    "a = 12\n",
    "list(a)"
   ]
  },
  {
   "cell_type": "code",
   "execution_count": 8,
   "id": "99b1fd05",
   "metadata": {},
   "outputs": [
    {
     "ename": "TypeError",
     "evalue": "'int' object is not iterable",
     "output_type": "error",
     "traceback": [
      "\u001b[1;31m---------------------------------------------------------------------------\u001b[0m",
      "\u001b[1;31mTypeError\u001b[0m                                 Traceback (most recent call last)",
      "Cell \u001b[1;32mIn[8], line 2\u001b[0m\n\u001b[0;32m      1\u001b[0m a \u001b[38;5;241m=\u001b[39m \u001b[38;5;241m11\u001b[39m\n\u001b[1;32m----> 2\u001b[0m \u001b[38;5;28mtuple\u001b[39m(a)\n",
      "\u001b[1;31mTypeError\u001b[0m: 'int' object is not iterable"
     ]
    }
   ],
   "source": [
    "a = 11\n",
    "tuple(a)"
   ]
  },
  {
   "cell_type": "code",
   "execution_count": 9,
   "id": "5fabb5f3",
   "metadata": {},
   "outputs": [
    {
     "name": "stdout",
     "output_type": "stream",
     "text": [
      "[(1, 2, 3)]\n"
     ]
    }
   ],
   "source": [
    "# tuple inside list\n",
    "a = [(1,2,3)]\n",
    "print(a)"
   ]
  },
  {
   "cell_type": "code",
   "execution_count": 12,
   "id": "cc78cda3",
   "metadata": {},
   "outputs": [
    {
     "name": "stdout",
     "output_type": "stream",
     "text": [
      "([1, 2, 3],)\n"
     ]
    }
   ],
   "source": [
    "# list inside tuple\n",
    "a = ([1,2,3],)\n",
    "print(a)"
   ]
  },
  {
   "cell_type": "code",
   "execution_count": null,
   "id": "6974524a",
   "metadata": {},
   "outputs": [],
   "source": []
  }
 ],
 "metadata": {
  "kernelspec": {
   "display_name": "Python 3 (ipykernel)",
   "language": "python",
   "name": "python3"
  },
  "language_info": {
   "codemirror_mode": {
    "name": "ipython",
    "version": 3
   },
   "file_extension": ".py",
   "mimetype": "text/x-python",
   "name": "python",
   "nbconvert_exporter": "python",
   "pygments_lexer": "ipython3",
   "version": "3.11.5"
  }
 },
 "nbformat": 4,
 "nbformat_minor": 5
}

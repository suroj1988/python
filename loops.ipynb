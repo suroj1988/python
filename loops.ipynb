{
 "cells": [
  {
   "cell_type": "code",
   "execution_count": 1,
   "id": "192b8bcb",
   "metadata": {},
   "outputs": [],
   "source": [
    "# for loop\n",
    "# while loop\n",
    "# for loop\n",
    "# range(5)  #0,1,2,3,4      for(i = 0;i<5;i++)\n",
    "# range(1,5) # 1,2,3,4      for(i = 1;i<5;i++)\n",
    "# range(1,10,2) #1,3,5,7,9  for(i = 1;i<5;i=i+2)"
   ]
  },
  {
   "cell_type": "code",
   "execution_count": 2,
   "id": "bc46de52",
   "metadata": {},
   "outputs": [
    {
     "name": "stdout",
     "output_type": "stream",
     "text": [
      "0 Hello world\n",
      "1 Hello world\n",
      "2 Hello world\n",
      "3 Hello world\n",
      "4 Hello world\n"
     ]
    }
   ],
   "source": [
    "for i in range(5):\n",
    "    print(i,\"Hello world\")"
   ]
  },
  {
   "cell_type": "code",
   "execution_count": 3,
   "id": "f8bde761",
   "metadata": {},
   "outputs": [
    {
     "name": "stdout",
     "output_type": "stream",
     "text": [
      "1 Hello world\n",
      "2 Hello world\n",
      "3 Hello world\n",
      "4 Hello world\n"
     ]
    }
   ],
   "source": [
    "for i in range(1,5):\n",
    "    print(i,\"Hello world\")"
   ]
  },
  {
   "cell_type": "code",
   "execution_count": 5,
   "id": "94669e7d",
   "metadata": {},
   "outputs": [
    {
     "name": "stdout",
     "output_type": "stream",
     "text": [
      "1 Hello world\n",
      "3 Hello world\n",
      "5 Hello world\n",
      "7 Hello world\n",
      "9 Hello world\n"
     ]
    }
   ],
   "source": [
    "for i in range(1,10,2):\n",
    "    print(i,\"Hello world\")"
   ]
  },
  {
   "cell_type": "code",
   "execution_count": 8,
   "id": "6ef49f64",
   "metadata": {},
   "outputs": [
    {
     "name": "stdout",
     "output_type": "stream",
     "text": [
      "1 Hello world 3 Hello world 5 Hello world 7 Hello world 9 Hello world "
     ]
    }
   ],
   "source": [
    "for i in range(1,10,2):\n",
    "    print(i,\"Hello world\",end=\" \")"
   ]
  },
  {
   "cell_type": "code",
   "execution_count": 10,
   "id": "8d48cb43",
   "metadata": {},
   "outputs": [
    {
     "name": "stdout",
     "output_type": "stream",
     "text": [
      "enter n = 7\n",
      "7 * 1 = 7\n",
      "7 * 2 = 14\n",
      "7 * 3 = 21\n",
      "7 * 4 = 28\n",
      "7 * 5 = 35\n",
      "7 * 6 = 42\n",
      "7 * 7 = 49\n",
      "7 * 8 = 56\n",
      "7 * 9 = 63\n",
      "7 * 10 = 70\n"
     ]
    }
   ],
   "source": [
    "n = int(input(\"enter n = \"))\n",
    "for i in range(1,11):\n",
    "    print(n,\"*\",i,\"=\",n*i)"
   ]
  },
  {
   "cell_type": "code",
   "execution_count": 11,
   "id": "1717c355",
   "metadata": {},
   "outputs": [
    {
     "name": "stdout",
     "output_type": "stream",
     "text": [
      "enter n = 5\n",
      "120\n"
     ]
    }
   ],
   "source": [
    "n = int(input(\"enter n = \"))\n",
    "fact = 1\n",
    "for i in range(1,n+1):\n",
    "    fact = fact *i\n",
    "print(fact)"
   ]
  },
  {
   "cell_type": "code",
   "execution_count": 12,
   "id": "1784bec3",
   "metadata": {},
   "outputs": [
    {
     "name": "stdout",
     "output_type": "stream",
     "text": [
      "Enter x = 76\n",
      "Enter x = 89\n",
      "Enter x = 09\n",
      "9\n"
     ]
    }
   ],
   "source": [
    "for i in range(3):\n",
    "    x = int(input(\"Enter x = \"))\n",
    "    \n",
    "print(x)"
   ]
  },
  {
   "cell_type": "code",
   "execution_count": 13,
   "id": "760582bd",
   "metadata": {},
   "outputs": [
    {
     "name": "stdout",
     "output_type": "stream",
     "text": [
      "Enter x = 1\n",
      "Enter x = 2\n",
      "Enter x = 3\n",
      "6\n"
     ]
    }
   ],
   "source": [
    "s = 0\n",
    "for i in range(3):\n",
    "    x = int(input(\"Enter x = \"))\n",
    "    s = s + x\n",
    "    \n",
    "    \n",
    "print(s)"
   ]
  },
  {
   "cell_type": "code",
   "execution_count": 14,
   "id": "3d99c3ed",
   "metadata": {},
   "outputs": [
    {
     "name": "stdout",
     "output_type": "stream",
     "text": [
      "Enter n = 3\n",
      "Enter physics marks = 78\n",
      "Enter chemistry marks = 87\n",
      "Enter  math marks = 87\n",
      "Enter english marks = 65\n",
      "Enter nepali marks = 65\n",
      "The total marks =  382\n",
      "The per =  76.4\n",
      "The grade =  B\n",
      "Enter physics marks = 76\n",
      "Enter chemistry marks = 98\n",
      "Enter  math marks = 98\n",
      "Enter english marks = 43\n",
      "Enter nepali marks = 67\n",
      "The total marks =  382\n",
      "The per =  76.4\n",
      "The grade =  B\n",
      "Enter physics marks = 67\n",
      "Enter chemistry marks = 76\n",
      "Enter  math marks = 54\n",
      "Enter english marks = 45\n",
      "Enter nepali marks = 87\n",
      "The total marks =  329\n",
      "The per =  65.8\n",
      "The grade =  B\n"
     ]
    }
   ],
   "source": [
    "n = int(input(\"Enter n = \"))\n",
    "for i in range(n):\n",
    "    physics = int(input(\"Enter physics marks = \"))\n",
    "    chemistry = int(input(\"Enter chemistry marks = \"))\n",
    "    math = int(input(\"Enter  math marks = \"))\n",
    "    english = int(input(\"Enter english marks = \"))\n",
    "    nepali = int(input(\"Enter nepali marks = \"))\n",
    "\n",
    "    total = physics + chemistry + math + english + nepali\n",
    "\n",
    "    per = total/5\n",
    "    if per >= 80:\n",
    "        grade = 'A'\n",
    "    elif per >= 60:\n",
    "        grade = 'B'\n",
    "    elif per >= 45:\n",
    "        grade = 'C'\n",
    "    else:\n",
    "        grade = 'F'\n",
    "\n",
    "    print(\"The total marks = \",total)\n",
    "    print(\"The per = \",per)\n",
    "    print(\"The grade = \",grade)"
   ]
  },
  {
   "cell_type": "code",
   "execution_count": 1,
   "id": "c832f565",
   "metadata": {},
   "outputs": [
    {
     "name": "stdout",
     "output_type": "stream",
     "text": [
      "enter n =3\n",
      "enter x = lux\n",
      "enter q =4\n",
      "enter p  = 40\n",
      "enter x = pen\n",
      "enter q =5\n",
      "enter p  = 50\n",
      "enter x = copy\n",
      "enter q =5\n",
      "enter p  = 100\n",
      "lux 4 40 160\n",
      "pen 5 50 250\n",
      "copy 5 100 500\n",
      "\n",
      "910\n"
     ]
    }
   ],
   "source": [
    "n = int(input(\"enter n =\"))\n",
    "data = \"\"\n",
    "grand_total = 0\n",
    "for i in range(n):\n",
    "    x = input(\"enter x = \")\n",
    "    quantity = int(input(\"enter q =\"))\n",
    "    price = int(input(\"enter p  = \"))\n",
    "    total = quantity * price\n",
    "    data = data + x + \" \"+ str(quantity)+\" \" + str(price)+\" \" + str(total) + \"\\n\" \n",
    "    grand_total = grand_total+ total\n",
    "print(data)\n",
    "print(grand_total)\n",
    "\n",
    "    "
   ]
  },
  {
   "cell_type": "code",
   "execution_count": 5,
   "id": "e9e77072",
   "metadata": {},
   "outputs": [
    {
     "name": "stdout",
     "output_type": "stream",
     "text": [
      "enter n = 2\n",
      "enter name =ram\n",
      "enter no.7865\n",
      "enter name =shyam\n",
      "enter no.4578\n",
      "ram 7865\n",
      "shyam 4578\n",
      "\n"
     ]
    }
   ],
   "source": [
    "n = int(input(\"enter n = \"))\n",
    "info = \"\"\n",
    "for i in range(n):\n",
    "    name = input(\"enter name =\")\n",
    "    phone_no = int(input(\"enter no.\"))\n",
    "    info = info + name + \" \" + str(phone_no) + \"\\n\"\n",
    "print(info)\n",
    "    "
   ]
  },
  {
   "cell_type": "code",
   "execution_count": 6,
   "id": "54662594",
   "metadata": {},
   "outputs": [
    {
     "name": "stdout",
     "output_type": "stream",
     "text": [
      "o\n",
      "oo\n",
      "ooo\n",
      "oooo\n",
      "ooooo\n",
      "oooooo\n",
      "ooooooo\n",
      "oooooooo\n",
      "ooooooooo\n"
     ]
    }
   ],
   "source": [
    "for i in range(1,10):\n",
    "    print(i * \"o\")"
   ]
  },
  {
   "cell_type": "code",
   "execution_count": 7,
   "id": "72fc772d",
   "metadata": {},
   "outputs": [],
   "source": [
    "# control statement\n",
    "# break\n",
    "# continue\n",
    "# pass"
   ]
  },
  {
   "cell_type": "code",
   "execution_count": 2,
   "id": "cd164321",
   "metadata": {},
   "outputs": [
    {
     "name": "stdout",
     "output_type": "stream",
     "text": [
      "0\n",
      "1\n",
      "2\n",
      "3\n",
      "4\n"
     ]
    }
   ],
   "source": [
    "for i in range(10):\n",
    "    if i ==5:\n",
    "        break\n",
    "    print(i)"
   ]
  },
  {
   "cell_type": "code",
   "execution_count": 3,
   "id": "0a5c87bf",
   "metadata": {},
   "outputs": [
    {
     "name": "stdout",
     "output_type": "stream",
     "text": [
      "0\n",
      "1\n",
      "2\n",
      "3\n",
      "4\n",
      "6\n",
      "7\n",
      "8\n",
      "9\n"
     ]
    }
   ],
   "source": [
    "for i in range(10):\n",
    "    if i ==5:\n",
    "        continue\n",
    "    print(i)"
   ]
  },
  {
   "cell_type": "code",
   "execution_count": 4,
   "id": "063d33b4",
   "metadata": {},
   "outputs": [],
   "source": [
    "for i in range(5):\n",
    "    pass"
   ]
  },
  {
   "cell_type": "code",
   "execution_count": 5,
   "id": "ee5cef79",
   "metadata": {},
   "outputs": [],
   "source": [
    "# while <condition>:\n",
    "#     <operation>"
   ]
  },
  {
   "cell_type": "code",
   "execution_count": 6,
   "id": "b5141953",
   "metadata": {},
   "outputs": [
    {
     "name": "stdout",
     "output_type": "stream",
     "text": [
      "0 Hello World\n",
      "1 Hello World\n",
      "2 Hello World\n",
      "3 Hello World\n",
      "4 Hello World\n"
     ]
    }
   ],
   "source": [
    "i = 0\n",
    "while i<5:\n",
    "    print(i,\"Hello World\")\n",
    "    i = i + 1"
   ]
  },
  {
   "cell_type": "code",
   "execution_count": 7,
   "id": "e2b73247",
   "metadata": {},
   "outputs": [
    {
     "name": "stdout",
     "output_type": "stream",
     "text": [
      "1 Hello World\n",
      "2 Hello World\n",
      "3 Hello World\n",
      "4 Hello World\n"
     ]
    }
   ],
   "source": [
    "i = 1\n",
    "while i<5:\n",
    "    print(i,\"Hello World\")\n",
    "    i = i + 1"
   ]
  },
  {
   "cell_type": "code",
   "execution_count": 8,
   "id": "887c7947",
   "metadata": {},
   "outputs": [
    {
     "name": "stdout",
     "output_type": "stream",
     "text": [
      "0 Hello World\n",
      "2 Hello World\n",
      "4 Hello World\n"
     ]
    }
   ],
   "source": [
    "i = 0\n",
    "while i<5:\n",
    "    print(i,\"Hello World\")\n",
    "    i = i + 2"
   ]
  },
  {
   "cell_type": "code",
   "execution_count": 9,
   "id": "67ef41b9",
   "metadata": {},
   "outputs": [
    {
     "name": "stdout",
     "output_type": "stream",
     "text": [
      "0 Hello World\n",
      "0.5 Hello World\n",
      "1.0 Hello World\n",
      "1.5 Hello World\n",
      "2.0 Hello World\n",
      "2.5 Hello World\n",
      "3.0 Hello World\n",
      "3.5 Hello World\n",
      "4.0 Hello World\n",
      "4.5 Hello World\n"
     ]
    }
   ],
   "source": [
    "i = 0\n",
    "while i<5:\n",
    "    print(i,\"Hello World\")\n",
    "    i = i + 0.5"
   ]
  },
  {
   "cell_type": "code",
   "execution_count": 10,
   "id": "58a9ac1a",
   "metadata": {},
   "outputs": [
    {
     "name": "stdout",
     "output_type": "stream",
     "text": [
      "Enter n = 6\n",
      "6 * 1 = 6\n",
      "6 * 2 = 12\n",
      "6 * 3 = 18\n",
      "6 * 4 = 24\n",
      "6 * 5 = 30\n",
      "6 * 6 = 36\n",
      "6 * 7 = 42\n",
      "6 * 8 = 48\n",
      "6 * 9 = 54\n",
      "6 * 10 = 60\n"
     ]
    }
   ],
   "source": [
    "i = 1\n",
    "n = int(input(\"Enter n = \"))\n",
    "while i<=10:\n",
    "    print(n,\"*\",i,\"=\",n*i)\n",
    "    i+=1"
   ]
  },
  {
   "cell_type": "code",
   "execution_count": 12,
   "id": "de6dcb5a",
   "metadata": {},
   "outputs": [
    {
     "name": "stdout",
     "output_type": "stream",
     "text": [
      "5\n",
      "4\n",
      "3\n",
      "2\n",
      "1\n",
      "0\n"
     ]
    }
   ],
   "source": [
    "for i in range(5,-1,-1):\n",
    "    print(i)"
   ]
  },
  {
   "cell_type": "code",
   "execution_count": 13,
   "id": "4d80891b",
   "metadata": {},
   "outputs": [
    {
     "name": "stdout",
     "output_type": "stream",
     "text": [
      "5 Hello World\n",
      "4 Hello World\n",
      "3 Hello World\n",
      "2 Hello World\n",
      "1 Hello World\n"
     ]
    }
   ],
   "source": [
    "i = 5\n",
    "while i>0:\n",
    "    print(i,\"Hello World\")\n",
    "    i = i-1"
   ]
  },
  {
   "cell_type": "code",
   "execution_count": 14,
   "id": "64bd1111",
   "metadata": {},
   "outputs": [
    {
     "name": "stdout",
     "output_type": "stream",
     "text": [
      "Enter n = 3\n",
      "Enter x = 1\n",
      "Enter x = 2\n",
      "Enter x = 3\n",
      "6\n"
     ]
    }
   ],
   "source": [
    "s = 0\n",
    "i = 0\n",
    "n = int(input(\"Enter n = \"))\n",
    "while i < n:\n",
    "    x = int(input(\"Enter x = \"))\n",
    "    s = s+x\n",
    "    i = i+1\n",
    "print(s)"
   ]
  },
  {
   "cell_type": "code",
   "execution_count": 15,
   "id": "d50f1a84",
   "metadata": {},
   "outputs": [
    {
     "name": "stdout",
     "output_type": "stream",
     "text": [
      "Enter n = 2\n",
      "Enter name = ram\n",
      "Enter phone = 1234\n",
      "Enter name = hari\n",
      "Enter phone = 1235\n",
      "ram 1234\n",
      "hari 1235\n",
      "\n"
     ]
    }
   ],
   "source": [
    "data = \"\"\n",
    "i = 0\n",
    "n = int(input(\"Enter n = \"))\n",
    "while i<n:\n",
    "    name = input(\"Enter name = \")\n",
    "    phone = int(input(\"Enter phone = \"))\n",
    "    info = name + \" \"+ str(phone) + \"\\n\"\n",
    "    data = data + info\n",
    "    i = i+1\n",
    "    \n",
    "print(data)"
   ]
  },
  {
   "cell_type": "code",
   "execution_count": null,
   "id": "a9afc884",
   "metadata": {},
   "outputs": [],
   "source": []
  }
 ],
 "metadata": {
  "kernelspec": {
   "display_name": "Python 3 (ipykernel)",
   "language": "python",
   "name": "python3"
  },
  "language_info": {
   "codemirror_mode": {
    "name": "ipython",
    "version": 3
   },
   "file_extension": ".py",
   "mimetype": "text/x-python",
   "name": "python",
   "nbconvert_exporter": "python",
   "pygments_lexer": "ipython3",
   "version": "3.11.5"
  }
 },
 "nbformat": 4,
 "nbformat_minor": 5
}
